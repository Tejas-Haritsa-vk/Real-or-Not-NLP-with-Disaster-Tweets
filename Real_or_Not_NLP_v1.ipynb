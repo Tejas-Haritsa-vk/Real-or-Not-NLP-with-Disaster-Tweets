{
 "cells": [
  {
   "cell_type": "markdown",
   "metadata": {},
   "source": [
    " "
   ]
  },
  {
   "cell_type": "markdown",
   "metadata": {},
   "source": [
    "# Real or Not? NLP with Disaster Tweets"
   ]
  },
  {
   "cell_type": "markdown",
   "metadata": {},
   "source": [
    "- Twitter has become an important communication channel in times of emergency.\n",
    "The ubiquitousness of smartphones enables people to announce an emergency they’re observing in real-time. Because of this, more agencies are interested in programatically monitoring Twitter (i.e. disaster relief organizations and news agencies).\n",
    "\n",
    "\n",
    "- But, it’s not always clear whether a person’s words are actually announcing a disaster. Take this example:\n",
    "The author explicitly uses the word “ABLAZE” but means it metaphorically. This is clear to a human right away, especially with the visual aid. But it’s less clear to a machine.\n",
    "\n",
    "\n",
    "- In this competition, you’re challenged to build a machine learning model that predicts which Tweets are about real disasters and which one’s aren’t. You’ll have access to a dataset of 10,000 tweets that were hand classified. If this is your first time working on an NLP problem, we've created a quick tutorial to get you up and running.\n",
    "\n",
    "\n",
    "- Disclaimer: The dataset for this competition contains text that may be considered profane, vulgar, or offensive."
   ]
  },
  {
   "cell_type": "markdown",
   "metadata": {},
   "source": [
    " "
   ]
  },
  {
   "cell_type": "markdown",
   "metadata": {},
   "source": [
    "## 1. Importing Required Libraries"
   ]
  },
  {
   "cell_type": "code",
   "execution_count": 1,
   "metadata": {},
   "outputs": [],
   "source": [
    "import numpy as np\n",
    "import pandas as pd\n",
    "import matplotlib.pyplot as plt\n",
    "from sklearn.feature_extraction.text import CountVectorizer,TfidfTransformer,TfidfVectorizer\n",
    "from sklearn.model_selection import train_test_split,cross_val_score\n",
    "from sklearn.naive_bayes import MultinomialNB,BernoulliNB,GaussianNB\n",
    "\n",
    "import re\n",
    "import nltk\n",
    "from nltk.stem.snowball import SnowballStemmer\n",
    "import nltk.corpus as corpus\n",
    "from sklearn.metrics import accuracy_score\n",
    "from nltk.tokenize import word_tokenize\n",
    "from nltk.stem.porter import PorterStemmer\n",
    "\n",
    "from sklearn.ensemble import RandomForestClassifier\n",
    "from sklearn.preprocessing import LabelEncoder\n",
    "import gc"
   ]
  },
  {
   "cell_type": "code",
   "execution_count": null,
   "metadata": {},
   "outputs": [],
   "source": []
  },
  {
   "cell_type": "code",
   "execution_count": null,
   "metadata": {},
   "outputs": [],
   "source": []
  },
  {
   "cell_type": "markdown",
   "metadata": {},
   "source": [
    "## 2. EDA (Exploratory Data Analysis) & Data Preparation"
   ]
  },
  {
   "cell_type": "markdown",
   "metadata": {},
   "source": [
    "### Reading CSV Data"
   ]
  },
  {
   "cell_type": "code",
   "execution_count": 2,
   "metadata": {},
   "outputs": [
    {
     "data": {
      "text/html": [
       "<div>\n",
       "<style scoped>\n",
       "    .dataframe tbody tr th:only-of-type {\n",
       "        vertical-align: middle;\n",
       "    }\n",
       "\n",
       "    .dataframe tbody tr th {\n",
       "        vertical-align: top;\n",
       "    }\n",
       "\n",
       "    .dataframe thead th {\n",
       "        text-align: right;\n",
       "    }\n",
       "</style>\n",
       "<table border=\"1\" class=\"dataframe\">\n",
       "  <thead>\n",
       "    <tr style=\"text-align: right;\">\n",
       "      <th></th>\n",
       "      <th>id</th>\n",
       "      <th>keyword</th>\n",
       "      <th>location</th>\n",
       "      <th>text</th>\n",
       "      <th>target</th>\n",
       "    </tr>\n",
       "  </thead>\n",
       "  <tbody>\n",
       "    <tr>\n",
       "      <th>0</th>\n",
       "      <td>1</td>\n",
       "      <td>NaN</td>\n",
       "      <td>NaN</td>\n",
       "      <td>Our Deeds are the Reason of this #earthquake May ALLAH Forgive us all</td>\n",
       "      <td>1</td>\n",
       "    </tr>\n",
       "    <tr>\n",
       "      <th>1</th>\n",
       "      <td>4</td>\n",
       "      <td>NaN</td>\n",
       "      <td>NaN</td>\n",
       "      <td>Forest fire near La Ronge Sask. Canada</td>\n",
       "      <td>1</td>\n",
       "    </tr>\n",
       "    <tr>\n",
       "      <th>2</th>\n",
       "      <td>5</td>\n",
       "      <td>NaN</td>\n",
       "      <td>NaN</td>\n",
       "      <td>All residents asked to 'shelter in place' are being notified by officers. No other evacuation or shelter in place orders are expected</td>\n",
       "      <td>1</td>\n",
       "    </tr>\n",
       "    <tr>\n",
       "      <th>3</th>\n",
       "      <td>6</td>\n",
       "      <td>NaN</td>\n",
       "      <td>NaN</td>\n",
       "      <td>13,000 people receive #wildfires evacuation orders in California</td>\n",
       "      <td>1</td>\n",
       "    </tr>\n",
       "    <tr>\n",
       "      <th>4</th>\n",
       "      <td>7</td>\n",
       "      <td>NaN</td>\n",
       "      <td>NaN</td>\n",
       "      <td>Just got sent this photo from Ruby #Alaska as smoke from #wildfires pours into a school</td>\n",
       "      <td>1</td>\n",
       "    </tr>\n",
       "  </tbody>\n",
       "</table>\n",
       "</div>"
      ],
      "text/plain": [
       "   id keyword location  \\\n",
       "0   1     NaN      NaN   \n",
       "1   4     NaN      NaN   \n",
       "2   5     NaN      NaN   \n",
       "3   6     NaN      NaN   \n",
       "4   7     NaN      NaN   \n",
       "\n",
       "                                                                                                                                    text  \\\n",
       "0                                                                  Our Deeds are the Reason of this #earthquake May ALLAH Forgive us all   \n",
       "1                                                                                                 Forest fire near La Ronge Sask. Canada   \n",
       "2  All residents asked to 'shelter in place' are being notified by officers. No other evacuation or shelter in place orders are expected   \n",
       "3                                                                      13,000 people receive #wildfires evacuation orders in California    \n",
       "4                                               Just got sent this photo from Ruby #Alaska as smoke from #wildfires pours into a school    \n",
       "\n",
       "   target  \n",
       "0       1  \n",
       "1       1  \n",
       "2       1  \n",
       "3       1  \n",
       "4       1  "
      ]
     },
     "execution_count": 2,
     "metadata": {},
     "output_type": "execute_result"
    }
   ],
   "source": [
    "#reading train data\n",
    "train_df = pd.read_csv(r'C:\\Users\\Tejas\\Downloads\\Real_or_Not_NLP\\nlp-getting-started\\train.csv',encoding='utf-8')\n",
    "pd.set_option('display.max_columns', 500) #setting up pandas to view max columns\n",
    "pd.set_option('display.max_colwidth', 1000) #setting up pandas to view max text\n",
    "train_df.head()"
   ]
  },
  {
   "cell_type": "code",
   "execution_count": null,
   "metadata": {},
   "outputs": [],
   "source": []
  },
  {
   "cell_type": "markdown",
   "metadata": {},
   "source": [
    "### Setting up Helper/Utility Functions"
   ]
  },
  {
   "cell_type": "code",
   "execution_count": 3,
   "metadata": {},
   "outputs": [],
   "source": [
    "words = set(corpus.words.words())\n",
    "def check_words(text):\n",
    "#     text_re = \" \".join(w for w in nltk.wordpunct_tokenize(text) if w.lower() in words or not w.isalpha())\n",
    "    text_re = \" \".join(w for w in nltk.wordpunct_tokenize(text) if w.lower() is not w.isalpha())\n",
    "    return text_re"
   ]
  },
  {
   "cell_type": "code",
   "execution_count": 4,
   "metadata": {},
   "outputs": [],
   "source": [
    "#Extract keywords related to disasters from given text\n",
    "def get_tags(word):\n",
    "    disaster_list = ['die','death','accident','kill','typhoon','crash','evacuation','flood','wildfire','forest fire','fire','earthquake','famine','disease','avalanches','landslides','tsunamis','volcan','plague','accident','hazardous','pollution','epidemic','armed','conflict','loss of life','violence','military','infection']\n",
    "#     if len(text)==1:\n",
    "#         text = list(text)\n",
    "#     for text in text:\n",
    "    word = word.lower()\n",
    "#     print('word=',word)\n",
    "    temp=[]\n",
    "    for text in disaster_list:\n",
    "#         print('text=',text)\n",
    "        word = re.sub('#','',word)\n",
    "#         print('text=',text)\n",
    "        if re.findall(text,word):\n",
    "            text=re.findall(text,word)\n",
    "            text=\",\".join(text)\n",
    "#             print(text)\n",
    "            temp.append(text)\n",
    "#             return text\n",
    "    if temp:\n",
    "        return temp\n",
    "        return \",\".join(temp)\n",
    "    else:\n",
    "        return 'NONE'"
   ]
  },
  {
   "cell_type": "code",
   "execution_count": 5,
   "metadata": {},
   "outputs": [
    {
     "data": {
      "text/plain": [
       "[['earthquake'],\n",
       " ['forest fire', 'fire'],\n",
       " ['evacuation'],\n",
       " ['evacuation', 'wildfire', 'fire'],\n",
       " ['wildfire', 'fire']]"
      ]
     },
     "execution_count": 5,
     "metadata": {},
     "output_type": "execute_result"
    }
   ],
   "source": [
    "[get_tags(word) for word in train_df.text[:5]]"
   ]
  },
  {
   "cell_type": "code",
   "execution_count": 6,
   "metadata": {},
   "outputs": [],
   "source": [
    "#Tokenize and stem words\n",
    "def stemmer(text):\n",
    "    # split into words\n",
    "    tokens = word_tokenize(text)\n",
    "    # stemming of words\n",
    "    stemmer = SnowballStemmer('english')\n",
    "    stemmed = [stemmer.stem(word) for word in tokens]\n",
    "    return stemmed"
   ]
  },
  {
   "cell_type": "code",
   "execution_count": null,
   "metadata": {},
   "outputs": [],
   "source": []
  },
  {
   "cell_type": "markdown",
   "metadata": {},
   "source": [
    "### Creating New Data Columns From Extracted Data"
   ]
  },
  {
   "cell_type": "code",
   "execution_count": 7,
   "metadata": {},
   "outputs": [
    {
     "data": {
      "text/html": [
       "<div>\n",
       "<style scoped>\n",
       "    .dataframe tbody tr th:only-of-type {\n",
       "        vertical-align: middle;\n",
       "    }\n",
       "\n",
       "    .dataframe tbody tr th {\n",
       "        vertical-align: top;\n",
       "    }\n",
       "\n",
       "    .dataframe thead th {\n",
       "        text-align: right;\n",
       "    }\n",
       "</style>\n",
       "<table border=\"1\" class=\"dataframe\">\n",
       "  <thead>\n",
       "    <tr style=\"text-align: right;\">\n",
       "      <th></th>\n",
       "      <th>id</th>\n",
       "      <th>keyword</th>\n",
       "      <th>location</th>\n",
       "      <th>text</th>\n",
       "      <th>target</th>\n",
       "      <th>hashtags</th>\n",
       "      <th>reference</th>\n",
       "      <th>text_re</th>\n",
       "      <th>text_stemmed</th>\n",
       "    </tr>\n",
       "  </thead>\n",
       "  <tbody>\n",
       "    <tr>\n",
       "      <th>0</th>\n",
       "      <td>1</td>\n",
       "      <td>NaN</td>\n",
       "      <td>NaN</td>\n",
       "      <td>Our Deeds are the Reason of this #earthquake May ALLAH Forgive us all</td>\n",
       "      <td>1</td>\n",
       "      <td>[earthquake]</td>\n",
       "      <td>[earthquake]</td>\n",
       "      <td>Our Deeds are the Reason of this # earthquake May ALLAH Forgive us all</td>\n",
       "      <td>[our, deed, are, the, reason, of, this, #, earthquak, may, allah, forgiv, us, all]</td>\n",
       "    </tr>\n",
       "    <tr>\n",
       "      <th>1</th>\n",
       "      <td>4</td>\n",
       "      <td>NaN</td>\n",
       "      <td>NaN</td>\n",
       "      <td>Forest fire near La Ronge Sask. Canada</td>\n",
       "      <td>1</td>\n",
       "      <td>[]</td>\n",
       "      <td>[forest fire, fire]</td>\n",
       "      <td>Forest fire near La Ronge Sask . Canada</td>\n",
       "      <td>[forest, fire, near, la, rong, sask, ., canada]</td>\n",
       "    </tr>\n",
       "    <tr>\n",
       "      <th>2</th>\n",
       "      <td>5</td>\n",
       "      <td>NaN</td>\n",
       "      <td>NaN</td>\n",
       "      <td>All residents asked to 'shelter in place' are being notified by officers. No other evacuation or shelter in place orders are expected</td>\n",
       "      <td>1</td>\n",
       "      <td>[]</td>\n",
       "      <td>[evacuation]</td>\n",
       "      <td>All residents asked to ' shelter in place ' are being notified by officers . No other evacuation or shelter in place orders are expected</td>\n",
       "      <td>[all, resid, ask, to, shelter, in, place, ', are, be, notifi, by, offic, ., no, other, evacu, or, shelter, in, place, order, are, expect]</td>\n",
       "    </tr>\n",
       "    <tr>\n",
       "      <th>3</th>\n",
       "      <td>6</td>\n",
       "      <td>NaN</td>\n",
       "      <td>NaN</td>\n",
       "      <td>13,000 people receive #wildfires evacuation orders in California</td>\n",
       "      <td>1</td>\n",
       "      <td>[wildfires]</td>\n",
       "      <td>[evacuation, wildfire, fire]</td>\n",
       "      <td>13 , 000 people receive # wildfires evacuation orders in California</td>\n",
       "      <td>[13,000, peopl, receiv, #, wildfir, evacu, order, in, california]</td>\n",
       "    </tr>\n",
       "    <tr>\n",
       "      <th>4</th>\n",
       "      <td>7</td>\n",
       "      <td>NaN</td>\n",
       "      <td>NaN</td>\n",
       "      <td>Just got sent this photo from Ruby #Alaska as smoke from #wildfires pours into a school</td>\n",
       "      <td>1</td>\n",
       "      <td>[Alaska, wildfires]</td>\n",
       "      <td>[wildfire, fire]</td>\n",
       "      <td>Just got sent this photo from Ruby # Alaska as smoke from # wildfires pours into a school</td>\n",
       "      <td>[just, got, sent, this, photo, from, rubi, #, alaska, as, smoke, from, #, wildfir, pour, into, a, school]</td>\n",
       "    </tr>\n",
       "  </tbody>\n",
       "</table>\n",
       "</div>"
      ],
      "text/plain": [
       "   id keyword location  \\\n",
       "0   1     NaN      NaN   \n",
       "1   4     NaN      NaN   \n",
       "2   5     NaN      NaN   \n",
       "3   6     NaN      NaN   \n",
       "4   7     NaN      NaN   \n",
       "\n",
       "                                                                                                                                    text  \\\n",
       "0                                                                  Our Deeds are the Reason of this #earthquake May ALLAH Forgive us all   \n",
       "1                                                                                                 Forest fire near La Ronge Sask. Canada   \n",
       "2  All residents asked to 'shelter in place' are being notified by officers. No other evacuation or shelter in place orders are expected   \n",
       "3                                                                      13,000 people receive #wildfires evacuation orders in California    \n",
       "4                                               Just got sent this photo from Ruby #Alaska as smoke from #wildfires pours into a school    \n",
       "\n",
       "   target             hashtags                     reference  \\\n",
       "0       1         [earthquake]                  [earthquake]   \n",
       "1       1                   []           [forest fire, fire]   \n",
       "2       1                   []                  [evacuation]   \n",
       "3       1          [wildfires]  [evacuation, wildfire, fire]   \n",
       "4       1  [Alaska, wildfires]              [wildfire, fire]   \n",
       "\n",
       "                                                                                                                                    text_re  \\\n",
       "0                                                                    Our Deeds are the Reason of this # earthquake May ALLAH Forgive us all   \n",
       "1                                                                                                   Forest fire near La Ronge Sask . Canada   \n",
       "2  All residents asked to ' shelter in place ' are being notified by officers . No other evacuation or shelter in place orders are expected   \n",
       "3                                                                       13 , 000 people receive # wildfires evacuation orders in California   \n",
       "4                                                 Just got sent this photo from Ruby # Alaska as smoke from # wildfires pours into a school   \n",
       "\n",
       "                                                                                                                                text_stemmed  \n",
       "0                                                         [our, deed, are, the, reason, of, this, #, earthquak, may, allah, forgiv, us, all]  \n",
       "1                                                                                            [forest, fire, near, la, rong, sask, ., canada]  \n",
       "2  [all, resid, ask, to, shelter, in, place, ', are, be, notifi, by, offic, ., no, other, evacu, or, shelter, in, place, order, are, expect]  \n",
       "3                                                                          [13,000, peopl, receiv, #, wildfir, evacu, order, in, california]  \n",
       "4                                  [just, got, sent, this, photo, from, rubi, #, alaska, as, smoke, from, #, wildfir, pour, into, a, school]  "
      ]
     },
     "execution_count": 7,
     "metadata": {},
     "output_type": "execute_result"
    }
   ],
   "source": [
    "train_df['hashtags'] = [re.findall(r\"#(\\w+)\", text) for text in train_df.text] #Extracting hashtags\n",
    "train_df['reference'] = [get_tags(word) for word in train_df.text] #finding key words\n",
    "train_df['text_re'] = [re.sub(r'\\bhttp[s]?://[a-zA-Z]*[0-9]*.*\\b\\s','',text) for text in train_df.text] #removing any hyperlinks if any\n",
    "train_df['text_re'] = [check_words(text) for text in train_df.text_re] #\n",
    "train_df['text_stemmed'] = [stemmer(text) for text in train_df.text] #stemmed text\n",
    "train_df.head()"
   ]
  },
  {
   "cell_type": "code",
   "execution_count": 8,
   "metadata": {},
   "outputs": [
    {
     "data": {
      "text/html": [
       "<div>\n",
       "<style scoped>\n",
       "    .dataframe tbody tr th:only-of-type {\n",
       "        vertical-align: middle;\n",
       "    }\n",
       "\n",
       "    .dataframe tbody tr th {\n",
       "        vertical-align: top;\n",
       "    }\n",
       "\n",
       "    .dataframe thead th {\n",
       "        text-align: right;\n",
       "    }\n",
       "</style>\n",
       "<table border=\"1\" class=\"dataframe\">\n",
       "  <thead>\n",
       "    <tr style=\"text-align: right;\">\n",
       "      <th></th>\n",
       "      <th>id</th>\n",
       "      <th>keyword</th>\n",
       "      <th>location</th>\n",
       "      <th>text</th>\n",
       "      <th>target</th>\n",
       "      <th>hashtags</th>\n",
       "      <th>reference</th>\n",
       "      <th>text_re</th>\n",
       "      <th>text_stemmed</th>\n",
       "      <th>disaster_lvl</th>\n",
       "    </tr>\n",
       "  </thead>\n",
       "  <tbody>\n",
       "    <tr>\n",
       "      <th>0</th>\n",
       "      <td>1</td>\n",
       "      <td>NaN</td>\n",
       "      <td>NaN</td>\n",
       "      <td>Our Deeds are the Reason of this #earthquake May ALLAH Forgive us all</td>\n",
       "      <td>1</td>\n",
       "      <td>earthquake</td>\n",
       "      <td>earthquake</td>\n",
       "      <td>Our Deeds are the Reason of this # earthquake May ALLAH Forgive us all</td>\n",
       "      <td>our deed are the reason of this # earthquak may allah forgiv us all</td>\n",
       "      <td>1</td>\n",
       "    </tr>\n",
       "    <tr>\n",
       "      <th>1</th>\n",
       "      <td>4</td>\n",
       "      <td>NaN</td>\n",
       "      <td>NaN</td>\n",
       "      <td>Forest fire near La Ronge Sask. Canada</td>\n",
       "      <td>1</td>\n",
       "      <td></td>\n",
       "      <td>forest fire,fire</td>\n",
       "      <td>Forest fire near La Ronge Sask . Canada</td>\n",
       "      <td>forest fire near la rong sask . canada</td>\n",
       "      <td>2</td>\n",
       "    </tr>\n",
       "    <tr>\n",
       "      <th>2</th>\n",
       "      <td>5</td>\n",
       "      <td>NaN</td>\n",
       "      <td>NaN</td>\n",
       "      <td>All residents asked to 'shelter in place' are being notified by officers. No other evacuation or shelter in place orders are expected</td>\n",
       "      <td>1</td>\n",
       "      <td></td>\n",
       "      <td>evacuation</td>\n",
       "      <td>All residents asked to ' shelter in place ' are being notified by officers . No other evacuation or shelter in place orders are expected</td>\n",
       "      <td>all resid ask to shelter in place ' are be notifi by offic . no other evacu or shelter in place order are expect</td>\n",
       "      <td>1</td>\n",
       "    </tr>\n",
       "    <tr>\n",
       "      <th>3</th>\n",
       "      <td>6</td>\n",
       "      <td>NaN</td>\n",
       "      <td>NaN</td>\n",
       "      <td>13,000 people receive #wildfires evacuation orders in California</td>\n",
       "      <td>1</td>\n",
       "      <td>wildfires</td>\n",
       "      <td>evacuation,wildfire,fire</td>\n",
       "      <td>13 , 000 people receive # wildfires evacuation orders in California</td>\n",
       "      <td>13,000 peopl receiv # wildfir evacu order in california</td>\n",
       "      <td>3</td>\n",
       "    </tr>\n",
       "    <tr>\n",
       "      <th>4</th>\n",
       "      <td>7</td>\n",
       "      <td>NaN</td>\n",
       "      <td>NaN</td>\n",
       "      <td>Just got sent this photo from Ruby #Alaska as smoke from #wildfires pours into a school</td>\n",
       "      <td>1</td>\n",
       "      <td>Alaska,wildfires</td>\n",
       "      <td>wildfire,fire</td>\n",
       "      <td>Just got sent this photo from Ruby # Alaska as smoke from # wildfires pours into a school</td>\n",
       "      <td>just got sent this photo from rubi # alaska as smoke from # wildfir pour into a school</td>\n",
       "      <td>2</td>\n",
       "    </tr>\n",
       "  </tbody>\n",
       "</table>\n",
       "</div>"
      ],
      "text/plain": [
       "   id keyword location  \\\n",
       "0   1     NaN      NaN   \n",
       "1   4     NaN      NaN   \n",
       "2   5     NaN      NaN   \n",
       "3   6     NaN      NaN   \n",
       "4   7     NaN      NaN   \n",
       "\n",
       "                                                                                                                                    text  \\\n",
       "0                                                                  Our Deeds are the Reason of this #earthquake May ALLAH Forgive us all   \n",
       "1                                                                                                 Forest fire near La Ronge Sask. Canada   \n",
       "2  All residents asked to 'shelter in place' are being notified by officers. No other evacuation or shelter in place orders are expected   \n",
       "3                                                                      13,000 people receive #wildfires evacuation orders in California    \n",
       "4                                               Just got sent this photo from Ruby #Alaska as smoke from #wildfires pours into a school    \n",
       "\n",
       "   target          hashtags                 reference  \\\n",
       "0       1        earthquake                earthquake   \n",
       "1       1                            forest fire,fire   \n",
       "2       1                                  evacuation   \n",
       "3       1         wildfires  evacuation,wildfire,fire   \n",
       "4       1  Alaska,wildfires             wildfire,fire   \n",
       "\n",
       "                                                                                                                                    text_re  \\\n",
       "0                                                                    Our Deeds are the Reason of this # earthquake May ALLAH Forgive us all   \n",
       "1                                                                                                   Forest fire near La Ronge Sask . Canada   \n",
       "2  All residents asked to ' shelter in place ' are being notified by officers . No other evacuation or shelter in place orders are expected   \n",
       "3                                                                       13 , 000 people receive # wildfires evacuation orders in California   \n",
       "4                                                 Just got sent this photo from Ruby # Alaska as smoke from # wildfires pours into a school   \n",
       "\n",
       "                                                                                                       text_stemmed  \\\n",
       "0                                               our deed are the reason of this # earthquak may allah forgiv us all   \n",
       "1                                                                            forest fire near la rong sask . canada   \n",
       "2  all resid ask to shelter in place ' are be notifi by offic . no other evacu or shelter in place order are expect   \n",
       "3                                                           13,000 peopl receiv # wildfir evacu order in california   \n",
       "4                            just got sent this photo from rubi # alaska as smoke from # wildfir pour into a school   \n",
       "\n",
       "   disaster_lvl  \n",
       "0             1  \n",
       "1             2  \n",
       "2             1  \n",
       "3             3  \n",
       "4             2  "
      ]
     },
     "execution_count": 8,
     "metadata": {},
     "output_type": "execute_result"
    }
   ],
   "source": [
    "train_df['disaster_lvl'] = [1 if len(text)==1 else 2 if len(text)==2 else 3 for text in train_df.reference] #custom priority scale\n",
    "train_df['hashtags'] = [\",\".join(text) for text in train_df.hashtags] #clean up\n",
    "train_df['reference'] = [\",\".join(text) for text in train_df.reference] #clean up\n",
    "train_df['text_stemmed'] = [\" \".join(text) for text in train_df.text_stemmed] #clean up\n",
    "train_df.head()"
   ]
  },
  {
   "cell_type": "code",
   "execution_count": null,
   "metadata": {},
   "outputs": [],
   "source": []
  },
  {
   "cell_type": "markdown",
   "metadata": {},
   "source": [
    "### Setting up Inputs(x) and Labels(y)"
   ]
  },
  {
   "cell_type": "code",
   "execution_count": 9,
   "metadata": {},
   "outputs": [],
   "source": [
    "#setting up X & Y for training\n",
    "x = train_df.text_re\n",
    "y = train_df.target"
   ]
  },
  {
   "cell_type": "code",
   "execution_count": 10,
   "metadata": {},
   "outputs": [
    {
     "data": {
      "text/plain": [
       "0                                                                      Our Deeds are the Reason of this # earthquake May ALLAH Forgive us all\n",
       "1                                                                                                     Forest fire near La Ronge Sask . Canada\n",
       "2    All residents asked to ' shelter in place ' are being notified by officers . No other evacuation or shelter in place orders are expected\n",
       "3                                                                         13 , 000 people receive # wildfires evacuation orders in California\n",
       "4                                                   Just got sent this photo from Ruby # Alaska as smoke from # wildfires pours into a school\n",
       "Name: text_re, dtype: object"
      ]
     },
     "execution_count": 10,
     "metadata": {},
     "output_type": "execute_result"
    }
   ],
   "source": [
    "x.head()"
   ]
  },
  {
   "cell_type": "code",
   "execution_count": 11,
   "metadata": {},
   "outputs": [
    {
     "data": {
      "text/plain": [
       "0    1\n",
       "1    1\n",
       "2    1\n",
       "3    1\n",
       "4    1\n",
       "Name: target, dtype: int64"
      ]
     },
     "execution_count": 11,
     "metadata": {},
     "output_type": "execute_result"
    }
   ],
   "source": [
    "y.head()"
   ]
  },
  {
   "cell_type": "code",
   "execution_count": null,
   "metadata": {},
   "outputs": [],
   "source": []
  },
  {
   "cell_type": "markdown",
   "metadata": {},
   "source": [
    "### Splitting and Vectorization of Training Data into Traning and Testing Data"
   ]
  },
  {
   "cell_type": "code",
   "execution_count": 12,
   "metadata": {},
   "outputs": [],
   "source": [
    "#Spliting X & Y into Train & Test splits\n",
    "x_train, x_test, y_train, y_test = train_test_split(x,y,random_state=0,stratify=y) "
   ]
  },
  {
   "cell_type": "code",
   "execution_count": 13,
   "metadata": {},
   "outputs": [],
   "source": [
    "vectorizer = TfidfVectorizer() #initializing TFIDvectorizer"
   ]
  },
  {
   "cell_type": "code",
   "execution_count": 14,
   "metadata": {},
   "outputs": [],
   "source": [
    "#fitting & transforming data into vectorized form\n",
    "x_train_transformed = vectorizer.fit_transform(x_train)\n",
    "x_test_transformed  = vectorizer.transform(x_test)\n",
    "feature_names = vectorizer.get_feature_names()"
   ]
  },
  {
   "cell_type": "code",
   "execution_count": 15,
   "metadata": {},
   "outputs": [
    {
     "data": {
      "text/plain": [
       "16355"
      ]
     },
     "execution_count": 15,
     "metadata": {},
     "output_type": "execute_result"
    }
   ],
   "source": [
    "len(feature_names) #viewing len of features"
   ]
  },
  {
   "cell_type": "code",
   "execution_count": 16,
   "metadata": {},
   "outputs": [
    {
     "data": {
      "text/plain": [
       "['accept',\n",
       " 'accepte',\n",
       " 'accepts',\n",
       " 'access',\n",
       " 'accident',\n",
       " 'accidentally',\n",
       " 'accidents',\n",
       " 'accionempresa',\n",
       " 'accompanying',\n",
       " 'according',\n",
       " 'accordingly',\n",
       " 'account',\n",
       " 'accountable',\n",
       " 'accuracy',\n",
       " 'accused',\n",
       " 'accuses',\n",
       " 'accustomed',\n",
       " 'acdelco',\n",
       " 'ace',\n",
       " 'acebreakingnews',\n",
       " 'acenewsdesk',\n",
       " 'acesse',\n",
       " 'acfi2rhz4n',\n",
       " 'achieve',\n",
       " 'achievement',\n",
       " 'achieving',\n",
       " 'achimota',\n",
       " 'aching',\n",
       " 'acid',\n",
       " 'acmrm833zq',\n",
       " 'acoustic',\n",
       " 'acousticmaloley',\n",
       " 'acquiesce',\n",
       " 'acquire',\n",
       " 'acquired',\n",
       " 'acquisitions',\n",
       " 'acres',\n",
       " 'acronym',\n",
       " 'across',\n",
       " 'acrylic',\n",
       " 'act',\n",
       " 'actavis',\n",
       " 'acted',\n",
       " 'actin',\n",
       " 'acting',\n",
       " 'action',\n",
       " 'actionmoviestaughtus',\n",
       " 'actions',\n",
       " 'activate',\n",
       " 'activated',\n",
       " 'activates',\n",
       " 'active',\n",
       " 'actively',\n",
       " 'activision',\n",
       " 'activist',\n",
       " 'activities',\n",
       " 'activity',\n",
       " 'actor',\n",
       " 'actress',\n",
       " 'acts',\n",
       " 'actual',\n",
       " 'actually',\n",
       " 'acura',\n",
       " 'acute',\n",
       " 'aczruorytd',\n",
       " 'ad',\n",
       " 'adam',\n",
       " 'adamantly',\n",
       " 'adamnibloe',\n",
       " 'adamrubinespn',\n",
       " 'adamtuss',\n",
       " 'adani',\n",
       " 'adanne___',\n",
       " 'add',\n",
       " 'added',\n",
       " 'addiction',\n",
       " 'adding',\n",
       " 'addition',\n",
       " 'address',\n",
       " 'adelaide',\n",
       " 'adhd',\n",
       " 'adidas',\n",
       " 'adip0unxhu',\n",
       " 'adjust',\n",
       " 'adjustable',\n",
       " 'adjusted',\n",
       " 'adjuster',\n",
       " 'admin',\n",
       " 'administration',\n",
       " 'administrative',\n",
       " 'admit',\n",
       " 'admits',\n",
       " 'adndotcom',\n",
       " 'adopt',\n",
       " 'adoption',\n",
       " 'adoptive',\n",
       " 'adorable',\n",
       " 'adorableappple',\n",
       " 'adrian_peel',\n",
       " 'adriasimon_',\n",
       " 'adriennetomah',\n",
       " 'ads',\n",
       " 'adsvdpnp3r',\n",
       " 'adult',\n",
       " 'adults',\n",
       " 'adumbbb',\n",
       " 'advance',\n",
       " 'advanced',\n",
       " 'advances',\n",
       " 'advantages',\n",
       " 'adventures',\n",
       " 'adverse',\n",
       " 'advertise',\n",
       " 'advice',\n",
       " 'advised',\n",
       " 'advisory',\n",
       " 'adweek',\n",
       " 'adz8kburt7',\n",
       " 'aeroplane',\n",
       " 'aesop',\n",
       " 'aesthetic',\n",
       " 'aetgbxm1pl',\n",
       " 'aewglvqreh',\n",
       " 'aez3ak1lrn',\n",
       " 'af',\n",
       " 'af1yzus8ln',\n",
       " 'afc',\n",
       " 'affect',\n",
       " 'affected',\n",
       " 'affecting',\n",
       " 'affects',\n",
       " 'affiliate',\n",
       " 'affiliation',\n",
       " 'affleck',\n",
       " 'affliction',\n",
       " 'afghan',\n",
       " 'afghanistan',\n",
       " 'afghetc',\n",
       " 'afk_10',\n",
       " 'afloat',\n",
       " 'afp',\n",
       " 'afraid',\n",
       " 'afrhnlly8d',\n",
       " 'africa',\n",
       " 'african',\n",
       " 'africanbaze',\n",
       " 'africans',\n",
       " 'africansinsf',\n",
       " 'africaå',\n",
       " 'afrikaan',\n",
       " 'afssgpnzwi',\n",
       " 'afte',\n",
       " 'after',\n",
       " 'afterlife',\n",
       " 'afternoon',\n",
       " 'aftershock',\n",
       " 'aftershock_delo',\n",
       " 'aftershock_org',\n",
       " 'ag',\n",
       " 'ag65u29sgo',\n",
       " 'ag_usa',\n",
       " 'again',\n",
       " 'against',\n",
       " 'agalloch',\n",
       " 'agdq',\n",
       " 'age',\n",
       " 'agencies',\n",
       " 'agency',\n",
       " 'agent',\n",
       " 'agents',\n",
       " 'ages',\n",
       " 'aggarwal',\n",
       " 'aggression',\n",
       " 'aggressive',\n",
       " 'agnus',\n",
       " 'ago',\n",
       " 'agony',\n",
       " 'agqo1479xm',\n",
       " 'agree',\n",
       " 'agreed',\n",
       " 'agreements',\n",
       " 'agrees',\n",
       " 'aguero',\n",
       " 'agycutkbnn',\n",
       " 'ah',\n",
       " 'ahahahga',\n",
       " 'ahamedis',\n",
       " 'ahead',\n",
       " 'ahh',\n",
       " 'ahhhhh',\n",
       " 'ahhtheenikki',\n",
       " 'ahrar',\n",
       " 'ahvymsqhqc',\n",
       " 'ai',\n",
       " 'aia',\n",
       " 'aid',\n",
       " 'aida_de',\n",
       " 'aidan',\n",
       " 'aiginsurance',\n",
       " 'aiiamericangiri',\n",
       " 'aiii',\n",
       " 'aim',\n",
       " 'ain',\n",
       " 'air',\n",
       " 'airasia',\n",
       " 'aircraft',\n",
       " 'airhead',\n",
       " 'airhorns',\n",
       " 'airing',\n",
       " 'airlines',\n",
       " 'airplane',\n",
       " 'airplaneåê',\n",
       " 'airport',\n",
       " 'airstrikes',\n",
       " 'airwaves',\n",
       " 'aisle',\n",
       " 'aisumage',\n",
       " 'ajabrown',\n",
       " 'ajay0snplg',\n",
       " 'ajpbdcalew',\n",
       " 'ajw',\n",
       " 'ajyulmftif',\n",
       " 'ajzy19vepu',\n",
       " 'ak',\n",
       " 'aka',\n",
       " 'akame',\n",
       " 'akarb74',\n",
       " 'akcsl',\n",
       " 'akilah',\n",
       " 'akito',\n",
       " 'akmihlris1',\n",
       " 'aknbtuyaef',\n",
       " 'aknynpv461',\n",
       " 'akq4rwjfvl',\n",
       " 'aks',\n",
       " 'akumareisu',\n",
       " 'akwa',\n",
       " 'akx',\n",
       " 'al',\n",
       " 'alabama',\n",
       " 'alabamaquake',\n",
       " 'aladdin',\n",
       " 'alameda',\n",
       " 'alanhahn',\n",
       " 'alarm',\n",
       " 'alarmed',\n",
       " 'alarming',\n",
       " 'alarmingly',\n",
       " 'alarms',\n",
       " 'alaska',\n",
       " 'alaskan',\n",
       " 'alaskaseafood',\n",
       " 'alba',\n",
       " 'albeit',\n",
       " 'alberta',\n",
       " 'albertans',\n",
       " 'albertsons',\n",
       " 'album',\n",
       " 'albums',\n",
       " 'albvdnwjtg',\n",
       " 'alchemist',\n",
       " 'alcohol',\n",
       " 'alcoholandmetal',\n",
       " 'alcoholism',\n",
       " 'aldridge',\n",
       " 'alec',\n",
       " 'alekalicante',\n",
       " 'alert',\n",
       " 'alerts',\n",
       " 'alex',\n",
       " 'alexalltimelow',\n",
       " 'alexbelloli',\n",
       " 'alexeivolkov1',\n",
       " 'alexhammerstone',\n",
       " 'alexis',\n",
       " 'alexis_sanchez',\n",
       " 'alexjacobsonpfs',\n",
       " 'alexshipppp',\n",
       " 'alfapedia',\n",
       " 'algae',\n",
       " 'alhaji',\n",
       " 'alhanda',\n",
       " 'ali',\n",
       " 'alice',\n",
       " 'alien',\n",
       " 'alifaditha',\n",
       " 'align',\n",
       " 'alil',\n",
       " 'alipaper',\n",
       " 'alisonannyoung',\n",
       " 'alive',\n",
       " 'all',\n",
       " 'allah',\n",
       " 'allahsfinest12',\n",
       " 'allay',\n",
       " 'allday_cumshots',\n",
       " 'allegations',\n",
       " 'alleged',\n",
       " 'allegedly',\n",
       " 'allegiance',\n",
       " 'allen_enbot',\n",
       " 'allergic',\n",
       " 'alley',\n",
       " 'allied',\n",
       " 'allies',\n",
       " 'allinwithchris',\n",
       " 'alllivesmatter',\n",
       " 'alllll',\n",
       " 'alloosh',\n",
       " 'allotment',\n",
       " 'allow',\n",
       " 'allowed',\n",
       " 'allows',\n",
       " 'alloy',\n",
       " 'allthekidneybeansandsorbet4misha',\n",
       " 'allthenews',\n",
       " 'ally',\n",
       " 'almost',\n",
       " 'almusafirah_',\n",
       " 'alnv51d95x',\n",
       " 'alois',\n",
       " 'alone',\n",
       " 'along',\n",
       " 'alot',\n",
       " 'alpha',\n",
       " 'alpotnb7q3',\n",
       " 'alps',\n",
       " 'alrasyid448iturasya',\n",
       " 'already',\n",
       " 'alright',\n",
       " 'alrighty',\n",
       " 'alska',\n",
       " 'also',\n",
       " 'alsowhat',\n",
       " 'alt',\n",
       " 'altamonte',\n",
       " 'alternate',\n",
       " 'alternative',\n",
       " 'alternatives',\n",
       " 'although',\n",
       " 'aluminum',\n",
       " 'alves',\n",
       " 'alvinnelson07',\n",
       " 'always',\n",
       " 'alwsl',\n",
       " 'alwx',\n",
       " 'am',\n",
       " 'ama',\n",
       " 'amalie',\n",
       " 'amaramin3',\n",
       " 'amateur',\n",
       " 'amateurnester',\n",
       " 'amazed',\n",
       " 'amazin',\n",
       " 'amazing',\n",
       " 'amazon',\n",
       " 'amazondeals',\n",
       " 'amber',\n",
       " 'ambition',\n",
       " 'ambleside',\n",
       " 'ambulance',\n",
       " 'ambulances',\n",
       " 'amcx',\n",
       " 'ameenshaikh3',\n",
       " 'amen',\n",
       " 'amends',\n",
       " 'ameribag',\n",
       " 'america',\n",
       " 'american',\n",
       " 'americanlegion',\n",
       " 'americans',\n",
       " 'ames',\n",
       " 'amico',\n",
       " 'amicospizzato',\n",
       " 'amid',\n",
       " 'amiibos',\n",
       " 'amin_akh',\n",
       " 'aminespn',\n",
       " 'amirite',\n",
       " 'amirkingkhan',\n",
       " 'amman',\n",
       " 'among',\n",
       " 'amongst',\n",
       " 'amp',\n",
       " 'amplifier',\n",
       " 'amritsar',\n",
       " 'amsal',\n",
       " 'amssummer',\n",
       " 'amsterdam',\n",
       " 'amumumux',\n",
       " 'an',\n",
       " 'an247',\n",
       " 'ana',\n",
       " 'anakin',\n",
       " 'analog',\n",
       " 'analysis',\n",
       " 'anarchic_teapot',\n",
       " 'anarchy',\n",
       " 'anathemazhiv',\n",
       " 'anatomy',\n",
       " 'anchor',\n",
       " 'anchorage',\n",
       " 'anchors',\n",
       " 'ancient',\n",
       " 'ancop',\n",
       " 'and',\n",
       " 'andre',\n",
       " 'andrea',\n",
       " 'andrew',\n",
       " 'android',\n",
       " 'ands',\n",
       " 'andy',\n",
       " 'andygilder',\n",
       " 'anellatulip',\n",
       " 'anew',\n",
       " 'angel',\n",
       " 'angeles',\n",
       " 'angelheartnight',\n",
       " 'angelina',\n",
       " 'angelriveralib',\n",
       " 'angels',\n",
       " 'anger',\n",
       " 'angers',\n",
       " 'angharadjames16',\n",
       " 'angioplasty',\n",
       " 'angry',\n",
       " 'angusmacneilsnp',\n",
       " 'anhqdc',\n",
       " 'ani',\n",
       " 'animal',\n",
       " 'animallogic',\n",
       " 'animalrescue',\n",
       " 'animals',\n",
       " 'animations',\n",
       " 'animatronics',\n",
       " 'anime',\n",
       " 'aniston',\n",
       " 'anjem',\n",
       " 'ankle',\n",
       " 'ankles',\n",
       " 'anlhw2izkz',\n",
       " 'anna',\n",
       " 'annaciclismo',\n",
       " 'annajhm',\n",
       " 'annddd',\n",
       " 'annealiz1',\n",
       " 'annihilate',\n",
       " 'annihilated',\n",
       " 'annihilating',\n",
       " 'annihilation',\n",
       " 'anniversary',\n",
       " 'annonymous',\n",
       " 'annoucement',\n",
       " 'announce',\n",
       " 'announced',\n",
       " 'announcement',\n",
       " 'announces',\n",
       " 'annoyed',\n",
       " 'annoying',\n",
       " 'annual',\n",
       " 'anonchimp',\n",
       " 'anonymous',\n",
       " 'another',\n",
       " 'anp9g6njfd',\n",
       " 'anriombhqn',\n",
       " 'answer',\n",
       " 'answers',\n",
       " 'ante',\n",
       " 'anthelmintic',\n",
       " 'anthology',\n",
       " 'anthony',\n",
       " 'anthrax',\n",
       " 'anthxvy',\n",
       " 'anti',\n",
       " 'antioch',\n",
       " 'antiochus',\n",
       " 'antonio',\n",
       " 'antony',\n",
       " 'antpips67',\n",
       " 'ants',\n",
       " 'anu',\n",
       " 'anutoopkf4',\n",
       " 'anxiety',\n",
       " 'anxious',\n",
       " 'any',\n",
       " 'any1',\n",
       " 'anybody',\n",
       " 'anymore',\n",
       " 'anyone',\n",
       " 'anything',\n",
       " 'anytime',\n",
       " 'anyway',\n",
       " 'anywhere',\n",
       " 'anza',\n",
       " 'ao4ju9vmmf',\n",
       " 'aod2ftbmgu',\n",
       " 'aoesbvns45',\n",
       " 'aogashima',\n",
       " 'aomq1rykmj',\n",
       " 'aoms']"
      ]
     },
     "execution_count": 16,
     "metadata": {},
     "output_type": "execute_result"
    }
   ],
   "source": [
    "feature_names[1000:1500] #sample viewing feature names to ensure no undesired elements are mixed-in"
   ]
  },
  {
   "cell_type": "code",
   "execution_count": 17,
   "metadata": {},
   "outputs": [
    {
     "data": {
      "text/plain": [
       "array([[0., 0., 0., ..., 0., 0., 0.],\n",
       "       [0., 0., 0., ..., 0., 0., 0.],\n",
       "       [0., 0., 0., ..., 0., 0., 0.],\n",
       "       ...,\n",
       "       [0., 0., 0., ..., 0., 0., 0.],\n",
       "       [0., 0., 0., ..., 0., 0., 0.],\n",
       "       [0., 0., 0., ..., 0., 0., 0.]])"
      ]
     },
     "execution_count": 17,
     "metadata": {},
     "output_type": "execute_result"
    }
   ],
   "source": [
    "x_train_transformed.toarray()"
   ]
  },
  {
   "cell_type": "code",
   "execution_count": 18,
   "metadata": {},
   "outputs": [],
   "source": [
    "#conforming shapes of transformed data"
   ]
  },
  {
   "cell_type": "code",
   "execution_count": 19,
   "metadata": {},
   "outputs": [
    {
     "data": {
      "text/plain": [
       "(5709, 16355)"
      ]
     },
     "execution_count": 19,
     "metadata": {},
     "output_type": "execute_result"
    }
   ],
   "source": [
    "x_train_transformed.shape"
   ]
  },
  {
   "cell_type": "code",
   "execution_count": 20,
   "metadata": {},
   "outputs": [
    {
     "data": {
      "text/plain": [
       "(5709, 16355)"
      ]
     },
     "execution_count": 20,
     "metadata": {},
     "output_type": "execute_result"
    }
   ],
   "source": [
    "x_train_transformed.toarray().shape"
   ]
  },
  {
   "cell_type": "code",
   "execution_count": 21,
   "metadata": {},
   "outputs": [
    {
     "data": {
      "text/plain": [
       "((5709,), (7613,))"
      ]
     },
     "execution_count": 21,
     "metadata": {},
     "output_type": "execute_result"
    }
   ],
   "source": [
    "y_train.shape,y.shape"
   ]
  },
  {
   "cell_type": "code",
   "execution_count": null,
   "metadata": {},
   "outputs": [],
   "source": []
  },
  {
   "cell_type": "code",
   "execution_count": null,
   "metadata": {},
   "outputs": [],
   "source": []
  },
  {
   "cell_type": "markdown",
   "metadata": {},
   "source": [
    "## 3. Training Models"
   ]
  },
  {
   "cell_type": "markdown",
   "metadata": {},
   "source": [
    "### Setup Models"
   ]
  },
  {
   "cell_type": "code",
   "execution_count": 22,
   "metadata": {},
   "outputs": [],
   "source": [
    "#initilize models\n",
    "bernoulli_nb = BernoulliNB(alpha=0.95)\n",
    "multi_nb = MultinomialNB(alpha=0.95)\n",
    "gaussian_nb = GaussianNB()"
   ]
  },
  {
   "cell_type": "code",
   "execution_count": 23,
   "metadata": {},
   "outputs": [
    {
     "data": {
      "text/plain": [
       "GaussianNB(priors=None, var_smoothing=1e-09)"
      ]
     },
     "execution_count": 23,
     "metadata": {},
     "output_type": "execute_result"
    }
   ],
   "source": [
    "#Training models\n",
    "bernoulli_nb.fit(x_train_transformed.toarray(),y_train)\n",
    "multi_nb.fit(x_train_transformed.toarray(),y_train)\n",
    "gaussian_nb.fit(x_train_transformed.toarray(),y_train)"
   ]
  },
  {
   "cell_type": "code",
   "execution_count": null,
   "metadata": {},
   "outputs": [],
   "source": []
  },
  {
   "cell_type": "code",
   "execution_count": null,
   "metadata": {},
   "outputs": [],
   "source": []
  },
  {
   "cell_type": "markdown",
   "metadata": {},
   "source": [
    "## 4. Testing & Cross-Validating Trained Models"
   ]
  },
  {
   "cell_type": "code",
   "execution_count": 24,
   "metadata": {},
   "outputs": [
    {
     "name": "stdout",
     "output_type": "stream",
     "text": [
      "Bernoulli_NB accuracy_score : 0.7998949579831933\n"
     ]
    }
   ],
   "source": [
    "#Predicting on Trained bernoulli_nb Model with Testing data\n",
    "bernoulli_nb_y_predict = bernoulli_nb.predict(x_test_transformed.toarray())\n",
    "print(\"Bernoulli_NB accuracy_score :\",accuracy_score(y_test, bernoulli_nb_y_predict))"
   ]
  },
  {
   "cell_type": "code",
   "execution_count": 25,
   "metadata": {},
   "outputs": [
    {
     "name": "stdout",
     "output_type": "stream",
     "text": [
      "Multi_NB accuracy_score : 0.789390756302521\n"
     ]
    }
   ],
   "source": [
    "#Predicting on Trained bernoulli_nb Model with Testing data\n",
    "multi_nb_y_predict = multi_nb.predict(x_test_transformed.toarray())\n",
    "print(\"Multi_NB accuracy_score :\",accuracy_score(y_test, multi_nb_y_predict))"
   ]
  },
  {
   "cell_type": "code",
   "execution_count": 26,
   "metadata": {},
   "outputs": [
    {
     "name": "stdout",
     "output_type": "stream",
     "text": [
      "Gaussian_NB accuracy_score : 0.6108193277310925\n"
     ]
    }
   ],
   "source": [
    "#Predicting on Trained bernoulli_nb Model with Testing data\n",
    "gaussian_nb_y_predict = gaussian_nb.predict(x_test_transformed.toarray())\n",
    "print(\"Gaussian_NB accuracy_score :\",accuracy_score(y_test, gaussian_nb_y_predict))"
   ]
  },
  {
   "cell_type": "code",
   "execution_count": null,
   "metadata": {},
   "outputs": [],
   "source": []
  },
  {
   "cell_type": "code",
   "execution_count": 27,
   "metadata": {},
   "outputs": [
    {
     "name": "stdout",
     "output_type": "stream",
     "text": [
      "[0.77483444 0.752      0.7217695  0.7010551  0.75056689]\n"
     ]
    },
    {
     "data": {
      "text/plain": [
       "0.7400451859152714"
      ]
     },
     "execution_count": 27,
     "metadata": {},
     "output_type": "execute_result"
    }
   ],
   "source": [
    "#Cross Validating Trained bernoulli_nb Model with Testing data\n",
    "bernoulli_nb_scores = cross_val_score(bernoulli_nb, x_train_transformed.toarray(), y_train, cv=5, scoring=\"f1\")\n",
    "print(bernoulli_nb_scores)\n",
    "bernoulli_nb_scores.mean() "
   ]
  },
  {
   "cell_type": "code",
   "execution_count": 28,
   "metadata": {},
   "outputs": [
    {
     "name": "stdout",
     "output_type": "stream",
     "text": [
      "[0.75261324 0.72182254 0.70517449 0.67396594 0.72791519]\n"
     ]
    },
    {
     "data": {
      "text/plain": [
       "0.7162982804076969"
      ]
     },
     "execution_count": 28,
     "metadata": {},
     "output_type": "execute_result"
    }
   ],
   "source": [
    "#Cross Validating Trained multi_nb Model with Testing data\n",
    "multi_nb_scores = cross_val_score(multi_nb, x_train_transformed.toarray(), y_train, cv=5, scoring=\"f1\")\n",
    "print(multi_nb_scores)\n",
    "multi_nb_scores.mean() "
   ]
  },
  {
   "cell_type": "code",
   "execution_count": 29,
   "metadata": {},
   "outputs": [
    {
     "name": "stdout",
     "output_type": "stream",
     "text": [
      "[0.63043478 0.65046102 0.62778731 0.62328767 0.62969283]\n"
     ]
    },
    {
     "data": {
      "text/plain": [
       "0.6323327232541376"
      ]
     },
     "execution_count": 29,
     "metadata": {},
     "output_type": "execute_result"
    }
   ],
   "source": [
    "#Cross Validating Trained gaussian_nb Model with Testing data\n",
    "gaussian_nb_scores = cross_val_score(gaussian_nb, x_train_transformed.toarray(), y_train, cv=5, scoring=\"f1\")\n",
    "print(gaussian_nb_scores)\n",
    "gaussian_nb_scores.mean() "
   ]
  },
  {
   "cell_type": "code",
   "execution_count": null,
   "metadata": {},
   "outputs": [],
   "source": []
  },
  {
   "cell_type": "markdown",
   "metadata": {},
   "source": [
    "#### Proceding with Benoulli_NB"
   ]
  },
  {
   "cell_type": "code",
   "execution_count": 30,
   "metadata": {},
   "outputs": [
    {
     "data": {
      "text/plain": [
       "158"
      ]
     },
     "execution_count": 30,
     "metadata": {},
     "output_type": "execute_result"
    }
   ],
   "source": [
    "del multi_nb,gaussian_nb #deleting unused models to freeup memory\n",
    "gc.collect() #collecting garbage"
   ]
  },
  {
   "cell_type": "code",
   "execution_count": null,
   "metadata": {},
   "outputs": [],
   "source": []
  },
  {
   "cell_type": "code",
   "execution_count": 31,
   "metadata": {},
   "outputs": [],
   "source": [
    "x_transformed = vectorizer.fit_transform(x) #Vectorizing complete data"
   ]
  },
  {
   "cell_type": "code",
   "execution_count": 32,
   "metadata": {},
   "outputs": [
    {
     "data": {
      "text/plain": [
       "BernoulliNB(alpha=0.95, binarize=0.0, class_prior=None, fit_prior=True)"
      ]
     },
     "execution_count": 32,
     "metadata": {},
     "output_type": "execute_result"
    }
   ],
   "source": [
    "#using bernoulli_nb as it has the highest cross_val_score\n",
    "bernoulli_nb.fit(x_transformed,y) #Training model with complete data"
   ]
  },
  {
   "cell_type": "code",
   "execution_count": 33,
   "metadata": {},
   "outputs": [
    {
     "name": "stdout",
     "output_type": "stream",
     "text": [
      "(7613,)\n",
      "Bernoulli_NB accuracy_score : 0.8897937738079601\n"
     ]
    }
   ],
   "source": [
    "#Predicting on Trained Model with Complete data\n",
    "y_predict = bernoulli_nb.predict(x_transformed.toarray())\n",
    "print(y_predict.shape)\n",
    "print(\"Bernoulli_NB accuracy_score :\",accuracy_score(y, y_predict))"
   ]
  },
  {
   "cell_type": "code",
   "execution_count": 34,
   "metadata": {},
   "outputs": [
    {
     "name": "stdout",
     "output_type": "stream",
     "text": [
      "[0.61048689 0.62052117 0.68825911 0.64347826 0.76052028]\n"
     ]
    },
    {
     "data": {
      "text/plain": [
       "0.6646531419290899"
      ]
     },
     "execution_count": 34,
     "metadata": {},
     "output_type": "execute_result"
    }
   ],
   "source": [
    "#Cross Validating Trained Model with Complete data\n",
    "scores = cross_val_score(bernoulli_nb, x_transformed.toarray(), y, cv=5, scoring=\"f1\")\n",
    "print(scores)\n",
    "scores.mean()"
   ]
  },
  {
   "cell_type": "code",
   "execution_count": 35,
   "metadata": {},
   "outputs": [
    {
     "data": {
      "text/html": [
       "<div>\n",
       "<style scoped>\n",
       "    .dataframe tbody tr th:only-of-type {\n",
       "        vertical-align: middle;\n",
       "    }\n",
       "\n",
       "    .dataframe tbody tr th {\n",
       "        vertical-align: top;\n",
       "    }\n",
       "\n",
       "    .dataframe thead th {\n",
       "        text-align: right;\n",
       "    }\n",
       "</style>\n",
       "<table border=\"1\" class=\"dataframe\">\n",
       "  <thead>\n",
       "    <tr style=\"text-align: right;\">\n",
       "      <th></th>\n",
       "      <th>id</th>\n",
       "      <th>keyword</th>\n",
       "      <th>location</th>\n",
       "      <th>text</th>\n",
       "      <th>target</th>\n",
       "      <th>hashtags</th>\n",
       "      <th>reference</th>\n",
       "      <th>text_re</th>\n",
       "      <th>text_stemmed</th>\n",
       "      <th>disaster_lvl</th>\n",
       "      <th>model_output</th>\n",
       "    </tr>\n",
       "  </thead>\n",
       "  <tbody>\n",
       "    <tr>\n",
       "      <th>0</th>\n",
       "      <td>1</td>\n",
       "      <td>NaN</td>\n",
       "      <td>NaN</td>\n",
       "      <td>Our Deeds are the Reason of this #earthquake May ALLAH Forgive us all</td>\n",
       "      <td>1</td>\n",
       "      <td>earthquake</td>\n",
       "      <td>earthquake</td>\n",
       "      <td>Our Deeds are the Reason of this # earthquake May ALLAH Forgive us all</td>\n",
       "      <td>our deed are the reason of this # earthquak may allah forgiv us all</td>\n",
       "      <td>1</td>\n",
       "      <td>0</td>\n",
       "    </tr>\n",
       "    <tr>\n",
       "      <th>1</th>\n",
       "      <td>4</td>\n",
       "      <td>NaN</td>\n",
       "      <td>NaN</td>\n",
       "      <td>Forest fire near La Ronge Sask. Canada</td>\n",
       "      <td>1</td>\n",
       "      <td></td>\n",
       "      <td>forest fire,fire</td>\n",
       "      <td>Forest fire near La Ronge Sask . Canada</td>\n",
       "      <td>forest fire near la rong sask . canada</td>\n",
       "      <td>2</td>\n",
       "      <td>1</td>\n",
       "    </tr>\n",
       "    <tr>\n",
       "      <th>2</th>\n",
       "      <td>5</td>\n",
       "      <td>NaN</td>\n",
       "      <td>NaN</td>\n",
       "      <td>All residents asked to 'shelter in place' are being notified by officers. No other evacuation or shelter in place orders are expected</td>\n",
       "      <td>1</td>\n",
       "      <td></td>\n",
       "      <td>evacuation</td>\n",
       "      <td>All residents asked to ' shelter in place ' are being notified by officers . No other evacuation or shelter in place orders are expected</td>\n",
       "      <td>all resid ask to shelter in place ' are be notifi by offic . no other evacu or shelter in place order are expect</td>\n",
       "      <td>1</td>\n",
       "      <td>1</td>\n",
       "    </tr>\n",
       "    <tr>\n",
       "      <th>3</th>\n",
       "      <td>6</td>\n",
       "      <td>NaN</td>\n",
       "      <td>NaN</td>\n",
       "      <td>13,000 people receive #wildfires evacuation orders in California</td>\n",
       "      <td>1</td>\n",
       "      <td>wildfires</td>\n",
       "      <td>evacuation,wildfire,fire</td>\n",
       "      <td>13 , 000 people receive # wildfires evacuation orders in California</td>\n",
       "      <td>13,000 peopl receiv # wildfir evacu order in california</td>\n",
       "      <td>3</td>\n",
       "      <td>1</td>\n",
       "    </tr>\n",
       "    <tr>\n",
       "      <th>4</th>\n",
       "      <td>7</td>\n",
       "      <td>NaN</td>\n",
       "      <td>NaN</td>\n",
       "      <td>Just got sent this photo from Ruby #Alaska as smoke from #wildfires pours into a school</td>\n",
       "      <td>1</td>\n",
       "      <td>Alaska,wildfires</td>\n",
       "      <td>wildfire,fire</td>\n",
       "      <td>Just got sent this photo from Ruby # Alaska as smoke from # wildfires pours into a school</td>\n",
       "      <td>just got sent this photo from rubi # alaska as smoke from # wildfir pour into a school</td>\n",
       "      <td>2</td>\n",
       "      <td>1</td>\n",
       "    </tr>\n",
       "  </tbody>\n",
       "</table>\n",
       "</div>"
      ],
      "text/plain": [
       "   id keyword location  \\\n",
       "0   1     NaN      NaN   \n",
       "1   4     NaN      NaN   \n",
       "2   5     NaN      NaN   \n",
       "3   6     NaN      NaN   \n",
       "4   7     NaN      NaN   \n",
       "\n",
       "                                                                                                                                    text  \\\n",
       "0                                                                  Our Deeds are the Reason of this #earthquake May ALLAH Forgive us all   \n",
       "1                                                                                                 Forest fire near La Ronge Sask. Canada   \n",
       "2  All residents asked to 'shelter in place' are being notified by officers. No other evacuation or shelter in place orders are expected   \n",
       "3                                                                      13,000 people receive #wildfires evacuation orders in California    \n",
       "4                                               Just got sent this photo from Ruby #Alaska as smoke from #wildfires pours into a school    \n",
       "\n",
       "   target          hashtags                 reference  \\\n",
       "0       1        earthquake                earthquake   \n",
       "1       1                            forest fire,fire   \n",
       "2       1                                  evacuation   \n",
       "3       1         wildfires  evacuation,wildfire,fire   \n",
       "4       1  Alaska,wildfires             wildfire,fire   \n",
       "\n",
       "                                                                                                                                    text_re  \\\n",
       "0                                                                    Our Deeds are the Reason of this # earthquake May ALLAH Forgive us all   \n",
       "1                                                                                                   Forest fire near La Ronge Sask . Canada   \n",
       "2  All residents asked to ' shelter in place ' are being notified by officers . No other evacuation or shelter in place orders are expected   \n",
       "3                                                                       13 , 000 people receive # wildfires evacuation orders in California   \n",
       "4                                                 Just got sent this photo from Ruby # Alaska as smoke from # wildfires pours into a school   \n",
       "\n",
       "                                                                                                       text_stemmed  \\\n",
       "0                                               our deed are the reason of this # earthquak may allah forgiv us all   \n",
       "1                                                                            forest fire near la rong sask . canada   \n",
       "2  all resid ask to shelter in place ' are be notifi by offic . no other evacu or shelter in place order are expect   \n",
       "3                                                           13,000 peopl receiv # wildfir evacu order in california   \n",
       "4                            just got sent this photo from rubi # alaska as smoke from # wildfir pour into a school   \n",
       "\n",
       "   disaster_lvl  model_output  \n",
       "0             1             0  \n",
       "1             2             1  \n",
       "2             1             1  \n",
       "3             3             1  \n",
       "4             2             1  "
      ]
     },
     "execution_count": 35,
     "metadata": {},
     "output_type": "execute_result"
    }
   ],
   "source": [
    "train_df['model_output'] = y_predict #using Bernoulli Model output as a data column\n",
    "train_df.head()"
   ]
  },
  {
   "cell_type": "code",
   "execution_count": null,
   "metadata": {},
   "outputs": [],
   "source": []
  },
  {
   "cell_type": "code",
   "execution_count": 36,
   "metadata": {},
   "outputs": [
    {
     "data": {
      "text/html": [
       "<div>\n",
       "<style scoped>\n",
       "    .dataframe tbody tr th:only-of-type {\n",
       "        vertical-align: middle;\n",
       "    }\n",
       "\n",
       "    .dataframe tbody tr th {\n",
       "        vertical-align: top;\n",
       "    }\n",
       "\n",
       "    .dataframe thead th {\n",
       "        text-align: right;\n",
       "    }\n",
       "</style>\n",
       "<table border=\"1\" class=\"dataframe\">\n",
       "  <thead>\n",
       "    <tr style=\"text-align: right;\">\n",
       "      <th></th>\n",
       "      <th>id</th>\n",
       "      <th>keyword</th>\n",
       "      <th>location</th>\n",
       "      <th>text</th>\n",
       "      <th>target</th>\n",
       "      <th>hashtags</th>\n",
       "      <th>reference</th>\n",
       "      <th>text_re</th>\n",
       "      <th>text_stemmed</th>\n",
       "      <th>disaster_lvl</th>\n",
       "      <th>model_output</th>\n",
       "    </tr>\n",
       "  </thead>\n",
       "  <tbody>\n",
       "    <tr>\n",
       "      <th>0</th>\n",
       "      <td>1</td>\n",
       "      <td>NONE</td>\n",
       "      <td>NONE</td>\n",
       "      <td>Our Deeds are the Reason of this #earthquake May ALLAH Forgive us all</td>\n",
       "      <td>1</td>\n",
       "      <td>earthquake</td>\n",
       "      <td>earthquake</td>\n",
       "      <td>Our Deeds are the Reason of this # earthquake May ALLAH Forgive us all</td>\n",
       "      <td>our deed are the reason of this # earthquak may allah forgiv us all</td>\n",
       "      <td>1</td>\n",
       "      <td>0</td>\n",
       "    </tr>\n",
       "    <tr>\n",
       "      <th>1</th>\n",
       "      <td>4</td>\n",
       "      <td>NONE</td>\n",
       "      <td>NONE</td>\n",
       "      <td>Forest fire near La Ronge Sask. Canada</td>\n",
       "      <td>1</td>\n",
       "      <td></td>\n",
       "      <td>forest fire,fire</td>\n",
       "      <td>Forest fire near La Ronge Sask . Canada</td>\n",
       "      <td>forest fire near la rong sask . canada</td>\n",
       "      <td>2</td>\n",
       "      <td>1</td>\n",
       "    </tr>\n",
       "    <tr>\n",
       "      <th>2</th>\n",
       "      <td>5</td>\n",
       "      <td>NONE</td>\n",
       "      <td>NONE</td>\n",
       "      <td>All residents asked to 'shelter in place' are being notified by officers. No other evacuation or shelter in place orders are expected</td>\n",
       "      <td>1</td>\n",
       "      <td></td>\n",
       "      <td>evacuation</td>\n",
       "      <td>All residents asked to ' shelter in place ' are being notified by officers . No other evacuation or shelter in place orders are expected</td>\n",
       "      <td>all resid ask to shelter in place ' are be notifi by offic . no other evacu or shelter in place order are expect</td>\n",
       "      <td>1</td>\n",
       "      <td>1</td>\n",
       "    </tr>\n",
       "    <tr>\n",
       "      <th>3</th>\n",
       "      <td>6</td>\n",
       "      <td>NONE</td>\n",
       "      <td>NONE</td>\n",
       "      <td>13,000 people receive #wildfires evacuation orders in California</td>\n",
       "      <td>1</td>\n",
       "      <td>wildfires</td>\n",
       "      <td>evacuation,wildfire,fire</td>\n",
       "      <td>13 , 000 people receive # wildfires evacuation orders in California</td>\n",
       "      <td>13,000 peopl receiv # wildfir evacu order in california</td>\n",
       "      <td>3</td>\n",
       "      <td>1</td>\n",
       "    </tr>\n",
       "    <tr>\n",
       "      <th>4</th>\n",
       "      <td>7</td>\n",
       "      <td>NONE</td>\n",
       "      <td>NONE</td>\n",
       "      <td>Just got sent this photo from Ruby #Alaska as smoke from #wildfires pours into a school</td>\n",
       "      <td>1</td>\n",
       "      <td>Alaska,wildfires</td>\n",
       "      <td>wildfire,fire</td>\n",
       "      <td>Just got sent this photo from Ruby # Alaska as smoke from # wildfires pours into a school</td>\n",
       "      <td>just got sent this photo from rubi # alaska as smoke from # wildfir pour into a school</td>\n",
       "      <td>2</td>\n",
       "      <td>1</td>\n",
       "    </tr>\n",
       "  </tbody>\n",
       "</table>\n",
       "</div>"
      ],
      "text/plain": [
       "   id keyword location  \\\n",
       "0   1    NONE     NONE   \n",
       "1   4    NONE     NONE   \n",
       "2   5    NONE     NONE   \n",
       "3   6    NONE     NONE   \n",
       "4   7    NONE     NONE   \n",
       "\n",
       "                                                                                                                                    text  \\\n",
       "0                                                                  Our Deeds are the Reason of this #earthquake May ALLAH Forgive us all   \n",
       "1                                                                                                 Forest fire near La Ronge Sask. Canada   \n",
       "2  All residents asked to 'shelter in place' are being notified by officers. No other evacuation or shelter in place orders are expected   \n",
       "3                                                                      13,000 people receive #wildfires evacuation orders in California    \n",
       "4                                               Just got sent this photo from Ruby #Alaska as smoke from #wildfires pours into a school    \n",
       "\n",
       "   target          hashtags                 reference  \\\n",
       "0       1        earthquake                earthquake   \n",
       "1       1                            forest fire,fire   \n",
       "2       1                                  evacuation   \n",
       "3       1         wildfires  evacuation,wildfire,fire   \n",
       "4       1  Alaska,wildfires             wildfire,fire   \n",
       "\n",
       "                                                                                                                                    text_re  \\\n",
       "0                                                                    Our Deeds are the Reason of this # earthquake May ALLAH Forgive us all   \n",
       "1                                                                                                   Forest fire near La Ronge Sask . Canada   \n",
       "2  All residents asked to ' shelter in place ' are being notified by officers . No other evacuation or shelter in place orders are expected   \n",
       "3                                                                       13 , 000 people receive # wildfires evacuation orders in California   \n",
       "4                                                 Just got sent this photo from Ruby # Alaska as smoke from # wildfires pours into a school   \n",
       "\n",
       "                                                                                                       text_stemmed  \\\n",
       "0                                               our deed are the reason of this # earthquak may allah forgiv us all   \n",
       "1                                                                            forest fire near la rong sask . canada   \n",
       "2  all resid ask to shelter in place ' are be notifi by offic . no other evacu or shelter in place order are expect   \n",
       "3                                                           13,000 peopl receiv # wildfir evacu order in california   \n",
       "4                            just got sent this photo from rubi # alaska as smoke from # wildfir pour into a school   \n",
       "\n",
       "   disaster_lvl  model_output  \n",
       "0             1             0  \n",
       "1             2             1  \n",
       "2             1             1  \n",
       "3             3             1  \n",
       "4             2             1  "
      ]
     },
     "execution_count": 36,
     "metadata": {},
     "output_type": "execute_result"
    }
   ],
   "source": [
    "#creating new DataFrame\n",
    "df = train_df.copy()\n",
    "df.fillna('NONE',inplace=True)\n",
    "df.head()"
   ]
  },
  {
   "cell_type": "code",
   "execution_count": 37,
   "metadata": {},
   "outputs": [],
   "source": [
    "del train_df #deleting unused DataFrame to freeup memory"
   ]
  },
  {
   "cell_type": "code",
   "execution_count": 38,
   "metadata": {},
   "outputs": [],
   "source": [
    "enc = LabelEncoder() #initilizing LabelEncoder"
   ]
  },
  {
   "cell_type": "code",
   "execution_count": 39,
   "metadata": {},
   "outputs": [
    {
     "data": {
      "text/html": [
       "<div>\n",
       "<style scoped>\n",
       "    .dataframe tbody tr th:only-of-type {\n",
       "        vertical-align: middle;\n",
       "    }\n",
       "\n",
       "    .dataframe tbody tr th {\n",
       "        vertical-align: top;\n",
       "    }\n",
       "\n",
       "    .dataframe thead th {\n",
       "        text-align: right;\n",
       "    }\n",
       "</style>\n",
       "<table border=\"1\" class=\"dataframe\">\n",
       "  <thead>\n",
       "    <tr style=\"text-align: right;\">\n",
       "      <th></th>\n",
       "      <th>id</th>\n",
       "      <th>keyword</th>\n",
       "      <th>location</th>\n",
       "      <th>text</th>\n",
       "      <th>target</th>\n",
       "      <th>hashtags</th>\n",
       "      <th>reference</th>\n",
       "      <th>text_re</th>\n",
       "      <th>text_stemmed</th>\n",
       "      <th>disaster_lvl</th>\n",
       "      <th>model_output</th>\n",
       "    </tr>\n",
       "  </thead>\n",
       "  <tbody>\n",
       "    <tr>\n",
       "      <th>0</th>\n",
       "      <td>1</td>\n",
       "      <td>0</td>\n",
       "      <td>1753</td>\n",
       "      <td>Our Deeds are the Reason of this #earthquake May ALLAH Forgive us all</td>\n",
       "      <td>1</td>\n",
       "      <td>942</td>\n",
       "      <td>56</td>\n",
       "      <td>Our Deeds are the Reason of this # earthquake May ALLAH Forgive us all</td>\n",
       "      <td>our deed are the reason of this # earthquak may allah forgiv us all</td>\n",
       "      <td>1</td>\n",
       "      <td>0</td>\n",
       "    </tr>\n",
       "    <tr>\n",
       "      <th>1</th>\n",
       "      <td>4</td>\n",
       "      <td>0</td>\n",
       "      <td>1753</td>\n",
       "      <td>Forest fire near La Ronge Sask. Canada</td>\n",
       "      <td>1</td>\n",
       "      <td>0</td>\n",
       "      <td>87</td>\n",
       "      <td>Forest fire near La Ronge Sask . Canada</td>\n",
       "      <td>forest fire near la rong sask . canada</td>\n",
       "      <td>2</td>\n",
       "      <td>1</td>\n",
       "    </tr>\n",
       "    <tr>\n",
       "      <th>2</th>\n",
       "      <td>5</td>\n",
       "      <td>0</td>\n",
       "      <td>1753</td>\n",
       "      <td>All residents asked to 'shelter in place' are being notified by officers. No other evacuation or shelter in place orders are expected</td>\n",
       "      <td>1</td>\n",
       "      <td>0</td>\n",
       "      <td>63</td>\n",
       "      <td>All residents asked to ' shelter in place ' are being notified by officers . No other evacuation or shelter in place orders are expected</td>\n",
       "      <td>all resid ask to shelter in place ' are be notifi by offic . no other evacu or shelter in place order are expect</td>\n",
       "      <td>1</td>\n",
       "      <td>1</td>\n",
       "    </tr>\n",
       "    <tr>\n",
       "      <th>3</th>\n",
       "      <td>6</td>\n",
       "      <td>0</td>\n",
       "      <td>1753</td>\n",
       "      <td>13,000 people receive #wildfires evacuation orders in California</td>\n",
       "      <td>1</td>\n",
       "      <td>1330</td>\n",
       "      <td>66</td>\n",
       "      <td>13 , 000 people receive # wildfires evacuation orders in California</td>\n",
       "      <td>13,000 peopl receiv # wildfir evacu order in california</td>\n",
       "      <td>3</td>\n",
       "      <td>1</td>\n",
       "    </tr>\n",
       "    <tr>\n",
       "      <th>4</th>\n",
       "      <td>7</td>\n",
       "      <td>0</td>\n",
       "      <td>1753</td>\n",
       "      <td>Just got sent this photo from Ruby #Alaska as smoke from #wildfires pours into a school</td>\n",
       "      <td>1</td>\n",
       "      <td>52</td>\n",
       "      <td>112</td>\n",
       "      <td>Just got sent this photo from Ruby # Alaska as smoke from # wildfires pours into a school</td>\n",
       "      <td>just got sent this photo from rubi # alaska as smoke from # wildfir pour into a school</td>\n",
       "      <td>2</td>\n",
       "      <td>1</td>\n",
       "    </tr>\n",
       "  </tbody>\n",
       "</table>\n",
       "</div>"
      ],
      "text/plain": [
       "   id  keyword  location  \\\n",
       "0   1        0      1753   \n",
       "1   4        0      1753   \n",
       "2   5        0      1753   \n",
       "3   6        0      1753   \n",
       "4   7        0      1753   \n",
       "\n",
       "                                                                                                                                    text  \\\n",
       "0                                                                  Our Deeds are the Reason of this #earthquake May ALLAH Forgive us all   \n",
       "1                                                                                                 Forest fire near La Ronge Sask. Canada   \n",
       "2  All residents asked to 'shelter in place' are being notified by officers. No other evacuation or shelter in place orders are expected   \n",
       "3                                                                      13,000 people receive #wildfires evacuation orders in California    \n",
       "4                                               Just got sent this photo from Ruby #Alaska as smoke from #wildfires pours into a school    \n",
       "\n",
       "   target  hashtags  reference  \\\n",
       "0       1       942         56   \n",
       "1       1         0         87   \n",
       "2       1         0         63   \n",
       "3       1      1330         66   \n",
       "4       1        52        112   \n",
       "\n",
       "                                                                                                                                    text_re  \\\n",
       "0                                                                    Our Deeds are the Reason of this # earthquake May ALLAH Forgive us all   \n",
       "1                                                                                                   Forest fire near La Ronge Sask . Canada   \n",
       "2  All residents asked to ' shelter in place ' are being notified by officers . No other evacuation or shelter in place orders are expected   \n",
       "3                                                                       13 , 000 people receive # wildfires evacuation orders in California   \n",
       "4                                                 Just got sent this photo from Ruby # Alaska as smoke from # wildfires pours into a school   \n",
       "\n",
       "                                                                                                       text_stemmed  \\\n",
       "0                                               our deed are the reason of this # earthquak may allah forgiv us all   \n",
       "1                                                                            forest fire near la rong sask . canada   \n",
       "2  all resid ask to shelter in place ' are be notifi by offic . no other evacu or shelter in place order are expect   \n",
       "3                                                           13,000 peopl receiv # wildfir evacu order in california   \n",
       "4                            just got sent this photo from rubi # alaska as smoke from # wildfir pour into a school   \n",
       "\n",
       "   disaster_lvl  model_output  \n",
       "0             1             0  \n",
       "1             2             1  \n",
       "2             1             1  \n",
       "3             3             1  \n",
       "4             2             1  "
      ]
     },
     "execution_count": 39,
     "metadata": {},
     "output_type": "execute_result"
    }
   ],
   "source": [
    "#LabelEncoding required non-numeric columns\n",
    "df.keyword = enc.fit_transform(df.keyword)\n",
    "df.location = enc.fit_transform(df.location)\n",
    "df.reference = enc.fit_transform(df.reference)\n",
    "df.hashtags = enc.fit_transform(df.hashtags)\n",
    "df.head()"
   ]
  },
  {
   "cell_type": "code",
   "execution_count": 40,
   "metadata": {},
   "outputs": [],
   "source": [
    "#setting up X & Y for training rf_clf\n",
    "X = df.loc[:,['keyword','location','model_output','reference','hashtags','disaster_lvl']]\n",
    "Y = df.target"
   ]
  },
  {
   "cell_type": "code",
   "execution_count": 41,
   "metadata": {},
   "outputs": [],
   "source": [
    "X_train, X_test, Y_train, Y_test = train_test_split(X,Y,random_state=0,stratify=Y) #Spliting X & Y into Train & Test splits"
   ]
  },
  {
   "cell_type": "code",
   "execution_count": 42,
   "metadata": {},
   "outputs": [],
   "source": [
    "#Setup RandomForestClassifier Model \n",
    "rf_clf = RandomForestClassifier(n_estimators=1000,criterion='gini',max_depth=None,min_samples_split=5,min_samples_leaf=1,\n",
    "    min_weight_fraction_leaf=0.0,\n",
    "    max_features='auto',\n",
    "    max_leaf_nodes=None,\n",
    "    min_impurity_decrease=0.0,\n",
    "    min_impurity_split=None,\n",
    "    bootstrap=True,\n",
    "    oob_score=False,\n",
    "    n_jobs=None,\n",
    "    random_state=10,\n",
    "    verbose=1,\n",
    "    warm_start=False,\n",
    "    class_weight=None,)"
   ]
  },
  {
   "cell_type": "code",
   "execution_count": 43,
   "metadata": {},
   "outputs": [
    {
     "name": "stderr",
     "output_type": "stream",
     "text": [
      "[Parallel(n_jobs=1)]: Using backend SequentialBackend with 1 concurrent workers.\n",
      "[Parallel(n_jobs=1)]: Done 1000 out of 1000 | elapsed:    8.7s finished\n"
     ]
    },
    {
     "data": {
      "text/plain": [
       "RandomForestClassifier(bootstrap=True, class_weight=None, criterion='gini',\n",
       "                       max_depth=None, max_features='auto', max_leaf_nodes=None,\n",
       "                       min_impurity_decrease=0.0, min_impurity_split=None,\n",
       "                       min_samples_leaf=1, min_samples_split=5,\n",
       "                       min_weight_fraction_leaf=0.0, n_estimators=1000,\n",
       "                       n_jobs=None, oob_score=False, random_state=10, verbose=1,\n",
       "                       warm_start=False)"
      ]
     },
     "execution_count": 43,
     "metadata": {},
     "output_type": "execute_result"
    }
   ],
   "source": [
    "rf_clf.fit(X_train,Y_train) #Training RandomForestClassifier Model"
   ]
  },
  {
   "cell_type": "code",
   "execution_count": 44,
   "metadata": {},
   "outputs": [
    {
     "name": "stderr",
     "output_type": "stream",
     "text": [
      "[Parallel(n_jobs=1)]: Using backend SequentialBackend with 1 concurrent workers.\n",
      "[Parallel(n_jobs=1)]: Done 1000 out of 1000 | elapsed:    0.7s finished\n"
     ]
    }
   ],
   "source": [
    "#Predicting on Trained rf_clf Model with Testing data\n",
    "Y_predict = rf_clf.predict(X_test)"
   ]
  },
  {
   "cell_type": "code",
   "execution_count": 45,
   "metadata": {},
   "outputs": [
    {
     "name": "stdout",
     "output_type": "stream",
     "text": [
      "Accuracy : 0.8771008403361344\n"
     ]
    }
   ],
   "source": [
    "print(\"Accuracy :\",accuracy_score(Y_test, Y_predict))"
   ]
  },
  {
   "cell_type": "code",
   "execution_count": 46,
   "metadata": {},
   "outputs": [
    {
     "name": "stderr",
     "output_type": "stream",
     "text": [
      "[Parallel(n_jobs=1)]: Using backend SequentialBackend with 1 concurrent workers.\n",
      "[Parallel(n_jobs=1)]: Done 1000 out of 1000 | elapsed:    6.9s finished\n",
      "[Parallel(n_jobs=1)]: Using backend SequentialBackend with 1 concurrent workers.\n",
      "[Parallel(n_jobs=1)]: Done 1000 out of 1000 | elapsed:    0.4s finished\n",
      "[Parallel(n_jobs=1)]: Using backend SequentialBackend with 1 concurrent workers.\n",
      "[Parallel(n_jobs=1)]: Done 1000 out of 1000 | elapsed:    6.9s finished\n",
      "[Parallel(n_jobs=1)]: Using backend SequentialBackend with 1 concurrent workers.\n",
      "[Parallel(n_jobs=1)]: Done 1000 out of 1000 | elapsed:    0.4s finished\n",
      "[Parallel(n_jobs=1)]: Using backend SequentialBackend with 1 concurrent workers.\n",
      "[Parallel(n_jobs=1)]: Done 1000 out of 1000 | elapsed:    8.3s finished\n",
      "[Parallel(n_jobs=1)]: Using backend SequentialBackend with 1 concurrent workers.\n",
      "[Parallel(n_jobs=1)]: Done 1000 out of 1000 | elapsed:    0.4s finished\n",
      "[Parallel(n_jobs=1)]: Using backend SequentialBackend with 1 concurrent workers.\n",
      "[Parallel(n_jobs=1)]: Done 1000 out of 1000 | elapsed:    6.8s finished\n",
      "[Parallel(n_jobs=1)]: Using backend SequentialBackend with 1 concurrent workers.\n",
      "[Parallel(n_jobs=1)]: Done 1000 out of 1000 | elapsed:    0.4s finished\n",
      "[Parallel(n_jobs=1)]: Using backend SequentialBackend with 1 concurrent workers.\n",
      "[Parallel(n_jobs=1)]: Done 1000 out of 1000 | elapsed:    6.8s finished\n",
      "[Parallel(n_jobs=1)]: Using backend SequentialBackend with 1 concurrent workers.\n"
     ]
    },
    {
     "name": "stdout",
     "output_type": "stream",
     "text": [
      "[0.87096774 0.85032538 0.82102908 0.84640884 0.84768212]\n"
     ]
    },
    {
     "name": "stderr",
     "output_type": "stream",
     "text": [
      "[Parallel(n_jobs=1)]: Done 1000 out of 1000 | elapsed:    0.4s finished\n"
     ]
    },
    {
     "data": {
      "text/plain": [
       "0.8472826326606763"
      ]
     },
     "execution_count": 46,
     "metadata": {},
     "output_type": "execute_result"
    }
   ],
   "source": [
    "#Cross Validating Trained multi_nb Model with Testing data\n",
    "scores = cross_val_score(rf_clf, X_train, Y_train, cv=5, scoring=\"f1\")\n",
    "print(scores)\n",
    "scores.mean()"
   ]
  },
  {
   "cell_type": "code",
   "execution_count": 47,
   "metadata": {},
   "outputs": [
    {
     "name": "stderr",
     "output_type": "stream",
     "text": [
      "[Parallel(n_jobs=1)]: Using backend SequentialBackend with 1 concurrent workers.\n",
      "[Parallel(n_jobs=1)]: Done 1000 out of 1000 | elapsed:    9.3s finished\n",
      "[Parallel(n_jobs=1)]: Using backend SequentialBackend with 1 concurrent workers.\n",
      "[Parallel(n_jobs=1)]: Done 1000 out of 1000 | elapsed:    0.3s finished\n",
      "[Parallel(n_jobs=1)]: Using backend SequentialBackend with 1 concurrent workers.\n",
      "[Parallel(n_jobs=1)]: Done 1000 out of 1000 | elapsed:    8.9s finished\n",
      "[Parallel(n_jobs=1)]: Using backend SequentialBackend with 1 concurrent workers.\n",
      "[Parallel(n_jobs=1)]: Done 1000 out of 1000 | elapsed:    0.3s finished\n",
      "[Parallel(n_jobs=1)]: Using backend SequentialBackend with 1 concurrent workers.\n",
      "[Parallel(n_jobs=1)]: Done 1000 out of 1000 | elapsed:    8.8s finished\n",
      "[Parallel(n_jobs=1)]: Using backend SequentialBackend with 1 concurrent workers.\n",
      "[Parallel(n_jobs=1)]: Done 1000 out of 1000 | elapsed:    0.4s finished\n",
      "[Parallel(n_jobs=1)]: Using backend SequentialBackend with 1 concurrent workers.\n",
      "[Parallel(n_jobs=1)]: Done 1000 out of 1000 | elapsed:   12.3s finished\n",
      "[Parallel(n_jobs=1)]: Using backend SequentialBackend with 1 concurrent workers.\n",
      "[Parallel(n_jobs=1)]: Done 1000 out of 1000 | elapsed:    0.4s finished\n",
      "[Parallel(n_jobs=1)]: Using backend SequentialBackend with 1 concurrent workers.\n",
      "[Parallel(n_jobs=1)]: Done 1000 out of 1000 | elapsed:   11.0s finished\n",
      "[Parallel(n_jobs=1)]: Using backend SequentialBackend with 1 concurrent workers.\n"
     ]
    },
    {
     "name": "stdout",
     "output_type": "stream",
     "text": [
      "[0.58364312 0.56743003 0.60044643 0.69097889 0.60642757]\n",
      "0.6097852073615427\n"
     ]
    },
    {
     "name": "stderr",
     "output_type": "stream",
     "text": [
      "[Parallel(n_jobs=1)]: Done 1000 out of 1000 | elapsed:    0.3s finished\n"
     ]
    }
   ],
   "source": [
    "#Cross Validating Trained multi_nb Model with Complete data\n",
    "scores = cross_val_score(rf_clf, X, Y, cv=5, scoring=\"f1\")\n",
    "print(scores)\n",
    "print(scores.mean())"
   ]
  },
  {
   "cell_type": "code",
   "execution_count": 48,
   "metadata": {},
   "outputs": [
    {
     "name": "stderr",
     "output_type": "stream",
     "text": [
      "[Parallel(n_jobs=1)]: Using backend SequentialBackend with 1 concurrent workers.\n",
      "[Parallel(n_jobs=1)]: Done 1000 out of 1000 | elapsed:    2.4s finished\n"
     ]
    },
    {
     "data": {
      "text/html": [
       "<div>\n",
       "<style scoped>\n",
       "    .dataframe tbody tr th:only-of-type {\n",
       "        vertical-align: middle;\n",
       "    }\n",
       "\n",
       "    .dataframe tbody tr th {\n",
       "        vertical-align: top;\n",
       "    }\n",
       "\n",
       "    .dataframe thead th {\n",
       "        text-align: right;\n",
       "    }\n",
       "</style>\n",
       "<table border=\"1\" class=\"dataframe\">\n",
       "  <thead>\n",
       "    <tr style=\"text-align: right;\">\n",
       "      <th></th>\n",
       "      <th>id</th>\n",
       "      <th>keyword</th>\n",
       "      <th>location</th>\n",
       "      <th>text</th>\n",
       "      <th>target</th>\n",
       "      <th>hashtags</th>\n",
       "      <th>reference</th>\n",
       "      <th>text_re</th>\n",
       "      <th>text_stemmed</th>\n",
       "      <th>disaster_lvl</th>\n",
       "      <th>model_output</th>\n",
       "      <th>rf_clf</th>\n",
       "    </tr>\n",
       "  </thead>\n",
       "  <tbody>\n",
       "    <tr>\n",
       "      <th>0</th>\n",
       "      <td>1</td>\n",
       "      <td>0</td>\n",
       "      <td>1753</td>\n",
       "      <td>Our Deeds are the Reason of this #earthquake May ALLAH Forgive us all</td>\n",
       "      <td>1</td>\n",
       "      <td>942</td>\n",
       "      <td>56</td>\n",
       "      <td>Our Deeds are the Reason of this # earthquake May ALLAH Forgive us all</td>\n",
       "      <td>our deed are the reason of this # earthquak may allah forgiv us all</td>\n",
       "      <td>1</td>\n",
       "      <td>0</td>\n",
       "      <td>1</td>\n",
       "    </tr>\n",
       "    <tr>\n",
       "      <th>1</th>\n",
       "      <td>4</td>\n",
       "      <td>0</td>\n",
       "      <td>1753</td>\n",
       "      <td>Forest fire near La Ronge Sask. Canada</td>\n",
       "      <td>1</td>\n",
       "      <td>0</td>\n",
       "      <td>87</td>\n",
       "      <td>Forest fire near La Ronge Sask . Canada</td>\n",
       "      <td>forest fire near la rong sask . canada</td>\n",
       "      <td>2</td>\n",
       "      <td>1</td>\n",
       "      <td>1</td>\n",
       "    </tr>\n",
       "    <tr>\n",
       "      <th>2</th>\n",
       "      <td>5</td>\n",
       "      <td>0</td>\n",
       "      <td>1753</td>\n",
       "      <td>All residents asked to 'shelter in place' are being notified by officers. No other evacuation or shelter in place orders are expected</td>\n",
       "      <td>1</td>\n",
       "      <td>0</td>\n",
       "      <td>63</td>\n",
       "      <td>All residents asked to ' shelter in place ' are being notified by officers . No other evacuation or shelter in place orders are expected</td>\n",
       "      <td>all resid ask to shelter in place ' are be notifi by offic . no other evacu or shelter in place order are expect</td>\n",
       "      <td>1</td>\n",
       "      <td>1</td>\n",
       "      <td>1</td>\n",
       "    </tr>\n",
       "    <tr>\n",
       "      <th>3</th>\n",
       "      <td>6</td>\n",
       "      <td>0</td>\n",
       "      <td>1753</td>\n",
       "      <td>13,000 people receive #wildfires evacuation orders in California</td>\n",
       "      <td>1</td>\n",
       "      <td>1330</td>\n",
       "      <td>66</td>\n",
       "      <td>13 , 000 people receive # wildfires evacuation orders in California</td>\n",
       "      <td>13,000 peopl receiv # wildfir evacu order in california</td>\n",
       "      <td>3</td>\n",
       "      <td>1</td>\n",
       "      <td>1</td>\n",
       "    </tr>\n",
       "    <tr>\n",
       "      <th>4</th>\n",
       "      <td>7</td>\n",
       "      <td>0</td>\n",
       "      <td>1753</td>\n",
       "      <td>Just got sent this photo from Ruby #Alaska as smoke from #wildfires pours into a school</td>\n",
       "      <td>1</td>\n",
       "      <td>52</td>\n",
       "      <td>112</td>\n",
       "      <td>Just got sent this photo from Ruby # Alaska as smoke from # wildfires pours into a school</td>\n",
       "      <td>just got sent this photo from rubi # alaska as smoke from # wildfir pour into a school</td>\n",
       "      <td>2</td>\n",
       "      <td>1</td>\n",
       "      <td>1</td>\n",
       "    </tr>\n",
       "  </tbody>\n",
       "</table>\n",
       "</div>"
      ],
      "text/plain": [
       "   id  keyword  location  \\\n",
       "0   1        0      1753   \n",
       "1   4        0      1753   \n",
       "2   5        0      1753   \n",
       "3   6        0      1753   \n",
       "4   7        0      1753   \n",
       "\n",
       "                                                                                                                                    text  \\\n",
       "0                                                                  Our Deeds are the Reason of this #earthquake May ALLAH Forgive us all   \n",
       "1                                                                                                 Forest fire near La Ronge Sask. Canada   \n",
       "2  All residents asked to 'shelter in place' are being notified by officers. No other evacuation or shelter in place orders are expected   \n",
       "3                                                                      13,000 people receive #wildfires evacuation orders in California    \n",
       "4                                               Just got sent this photo from Ruby #Alaska as smoke from #wildfires pours into a school    \n",
       "\n",
       "   target  hashtags  reference  \\\n",
       "0       1       942         56   \n",
       "1       1         0         87   \n",
       "2       1         0         63   \n",
       "3       1      1330         66   \n",
       "4       1        52        112   \n",
       "\n",
       "                                                                                                                                    text_re  \\\n",
       "0                                                                    Our Deeds are the Reason of this # earthquake May ALLAH Forgive us all   \n",
       "1                                                                                                   Forest fire near La Ronge Sask . Canada   \n",
       "2  All residents asked to ' shelter in place ' are being notified by officers . No other evacuation or shelter in place orders are expected   \n",
       "3                                                                       13 , 000 people receive # wildfires evacuation orders in California   \n",
       "4                                                 Just got sent this photo from Ruby # Alaska as smoke from # wildfires pours into a school   \n",
       "\n",
       "                                                                                                       text_stemmed  \\\n",
       "0                                               our deed are the reason of this # earthquak may allah forgiv us all   \n",
       "1                                                                            forest fire near la rong sask . canada   \n",
       "2  all resid ask to shelter in place ' are be notifi by offic . no other evacu or shelter in place order are expect   \n",
       "3                                                           13,000 peopl receiv # wildfir evacu order in california   \n",
       "4                            just got sent this photo from rubi # alaska as smoke from # wildfir pour into a school   \n",
       "\n",
       "   disaster_lvl  model_output  rf_clf  \n",
       "0             1             0       1  \n",
       "1             2             1       1  \n",
       "2             1             1       1  \n",
       "3             3             1       1  \n",
       "4             2             1       1  "
      ]
     },
     "execution_count": 48,
     "metadata": {},
     "output_type": "execute_result"
    }
   ],
   "source": [
    "#Predicting with Trained rf_clf Model on Complete Data\n",
    "df['rf_clf'] = rf_clf.predict(X)\n",
    "df.head()"
   ]
  },
  {
   "cell_type": "code",
   "execution_count": null,
   "metadata": {},
   "outputs": [],
   "source": []
  },
  {
   "cell_type": "code",
   "execution_count": null,
   "metadata": {},
   "outputs": [],
   "source": []
  },
  {
   "cell_type": "markdown",
   "metadata": {},
   "source": [
    "## 5. Validation"
   ]
  },
  {
   "cell_type": "markdown",
   "metadata": {},
   "source": [
    "### Reading CSV Data"
   ]
  },
  {
   "cell_type": "code",
   "execution_count": 49,
   "metadata": {},
   "outputs": [
    {
     "data": {
      "text/html": [
       "<div>\n",
       "<style scoped>\n",
       "    .dataframe tbody tr th:only-of-type {\n",
       "        vertical-align: middle;\n",
       "    }\n",
       "\n",
       "    .dataframe tbody tr th {\n",
       "        vertical-align: top;\n",
       "    }\n",
       "\n",
       "    .dataframe thead th {\n",
       "        text-align: right;\n",
       "    }\n",
       "</style>\n",
       "<table border=\"1\" class=\"dataframe\">\n",
       "  <thead>\n",
       "    <tr style=\"text-align: right;\">\n",
       "      <th></th>\n",
       "      <th>id</th>\n",
       "      <th>keyword</th>\n",
       "      <th>location</th>\n",
       "      <th>text</th>\n",
       "    </tr>\n",
       "  </thead>\n",
       "  <tbody>\n",
       "    <tr>\n",
       "      <th>0</th>\n",
       "      <td>0</td>\n",
       "      <td>NaN</td>\n",
       "      <td>NaN</td>\n",
       "      <td>Just happened a terrible car crash</td>\n",
       "    </tr>\n",
       "    <tr>\n",
       "      <th>1</th>\n",
       "      <td>2</td>\n",
       "      <td>NaN</td>\n",
       "      <td>NaN</td>\n",
       "      <td>Heard about #earthquake is different cities, stay safe everyone.</td>\n",
       "    </tr>\n",
       "    <tr>\n",
       "      <th>2</th>\n",
       "      <td>3</td>\n",
       "      <td>NaN</td>\n",
       "      <td>NaN</td>\n",
       "      <td>there is a forest fire at spot pond, geese are fleeing across the street, I cannot save them all</td>\n",
       "    </tr>\n",
       "    <tr>\n",
       "      <th>3</th>\n",
       "      <td>9</td>\n",
       "      <td>NaN</td>\n",
       "      <td>NaN</td>\n",
       "      <td>Apocalypse lighting. #Spokane #wildfires</td>\n",
       "    </tr>\n",
       "    <tr>\n",
       "      <th>4</th>\n",
       "      <td>11</td>\n",
       "      <td>NaN</td>\n",
       "      <td>NaN</td>\n",
       "      <td>Typhoon Soudelor kills 28 in China and Taiwan</td>\n",
       "    </tr>\n",
       "  </tbody>\n",
       "</table>\n",
       "</div>"
      ],
      "text/plain": [
       "   id keyword location  \\\n",
       "0   0     NaN      NaN   \n",
       "1   2     NaN      NaN   \n",
       "2   3     NaN      NaN   \n",
       "3   9     NaN      NaN   \n",
       "4  11     NaN      NaN   \n",
       "\n",
       "                                                                                               text  \n",
       "0                                                                Just happened a terrible car crash  \n",
       "1                                  Heard about #earthquake is different cities, stay safe everyone.  \n",
       "2  there is a forest fire at spot pond, geese are fleeing across the street, I cannot save them all  \n",
       "3                                                          Apocalypse lighting. #Spokane #wildfires  \n",
       "4                                                     Typhoon Soudelor kills 28 in China and Taiwan  "
      ]
     },
     "execution_count": 49,
     "metadata": {},
     "output_type": "execute_result"
    }
   ],
   "source": [
    "#reading test/validation data\n",
    "test_df = pd.read_csv(r'C:\\Users\\Tejas\\Downloads\\Real_or_Not_NLP\\nlp-getting-started\\test.csv',encoding='utf-8')\n",
    "test_df.head()"
   ]
  },
  {
   "cell_type": "markdown",
   "metadata": {},
   "source": [
    "### Data Preparation"
   ]
  },
  {
   "cell_type": "code",
   "execution_count": 50,
   "metadata": {},
   "outputs": [
    {
     "data": {
      "text/html": [
       "<div>\n",
       "<style scoped>\n",
       "    .dataframe tbody tr th:only-of-type {\n",
       "        vertical-align: middle;\n",
       "    }\n",
       "\n",
       "    .dataframe tbody tr th {\n",
       "        vertical-align: top;\n",
       "    }\n",
       "\n",
       "    .dataframe thead th {\n",
       "        text-align: right;\n",
       "    }\n",
       "</style>\n",
       "<table border=\"1\" class=\"dataframe\">\n",
       "  <thead>\n",
       "    <tr style=\"text-align: right;\">\n",
       "      <th></th>\n",
       "      <th>id</th>\n",
       "      <th>keyword</th>\n",
       "      <th>location</th>\n",
       "      <th>text</th>\n",
       "      <th>hashtags</th>\n",
       "      <th>reference</th>\n",
       "      <th>text_re</th>\n",
       "      <th>disaster_lvl</th>\n",
       "    </tr>\n",
       "  </thead>\n",
       "  <tbody>\n",
       "    <tr>\n",
       "      <th>0</th>\n",
       "      <td>0</td>\n",
       "      <td>NaN</td>\n",
       "      <td>NaN</td>\n",
       "      <td>Just happened a terrible car crash</td>\n",
       "      <td></td>\n",
       "      <td>crash</td>\n",
       "      <td>Just happened a terrible car crash</td>\n",
       "      <td>1</td>\n",
       "    </tr>\n",
       "    <tr>\n",
       "      <th>1</th>\n",
       "      <td>2</td>\n",
       "      <td>NaN</td>\n",
       "      <td>NaN</td>\n",
       "      <td>Heard about #earthquake is different cities, stay safe everyone.</td>\n",
       "      <td>earthquake</td>\n",
       "      <td>earthquake</td>\n",
       "      <td>Heard about #earthquake is different cities, stay safe everyone.</td>\n",
       "      <td>1</td>\n",
       "    </tr>\n",
       "    <tr>\n",
       "      <th>2</th>\n",
       "      <td>3</td>\n",
       "      <td>NaN</td>\n",
       "      <td>NaN</td>\n",
       "      <td>there is a forest fire at spot pond, geese are fleeing across the street, I cannot save them all</td>\n",
       "      <td></td>\n",
       "      <td>forest fire,fire</td>\n",
       "      <td>there is a forest fire at spot pond, geese are fleeing across the street, I cannot save them all</td>\n",
       "      <td>2</td>\n",
       "    </tr>\n",
       "    <tr>\n",
       "      <th>3</th>\n",
       "      <td>9</td>\n",
       "      <td>NaN</td>\n",
       "      <td>NaN</td>\n",
       "      <td>Apocalypse lighting. #Spokane #wildfires</td>\n",
       "      <td>Spokane,wildfires</td>\n",
       "      <td>wildfire,fire</td>\n",
       "      <td>Apocalypse lighting. #Spokane #wildfires</td>\n",
       "      <td>2</td>\n",
       "    </tr>\n",
       "    <tr>\n",
       "      <th>4</th>\n",
       "      <td>11</td>\n",
       "      <td>NaN</td>\n",
       "      <td>NaN</td>\n",
       "      <td>Typhoon Soudelor kills 28 in China and Taiwan</td>\n",
       "      <td></td>\n",
       "      <td>kill,typhoon</td>\n",
       "      <td>Typhoon Soudelor kills 28 in China and Taiwan</td>\n",
       "      <td>2</td>\n",
       "    </tr>\n",
       "  </tbody>\n",
       "</table>\n",
       "</div>"
      ],
      "text/plain": [
       "   id keyword location  \\\n",
       "0   0     NaN      NaN   \n",
       "1   2     NaN      NaN   \n",
       "2   3     NaN      NaN   \n",
       "3   9     NaN      NaN   \n",
       "4  11     NaN      NaN   \n",
       "\n",
       "                                                                                               text  \\\n",
       "0                                                                Just happened a terrible car crash   \n",
       "1                                  Heard about #earthquake is different cities, stay safe everyone.   \n",
       "2  there is a forest fire at spot pond, geese are fleeing across the street, I cannot save them all   \n",
       "3                                                          Apocalypse lighting. #Spokane #wildfires   \n",
       "4                                                     Typhoon Soudelor kills 28 in China and Taiwan   \n",
       "\n",
       "            hashtags         reference  \\\n",
       "0                                crash   \n",
       "1         earthquake        earthquake   \n",
       "2                     forest fire,fire   \n",
       "3  Spokane,wildfires     wildfire,fire   \n",
       "4                         kill,typhoon   \n",
       "\n",
       "                                                                                            text_re  \\\n",
       "0                                                                Just happened a terrible car crash   \n",
       "1                                  Heard about #earthquake is different cities, stay safe everyone.   \n",
       "2  there is a forest fire at spot pond, geese are fleeing across the street, I cannot save them all   \n",
       "3                                                          Apocalypse lighting. #Spokane #wildfires   \n",
       "4                                                     Typhoon Soudelor kills 28 in China and Taiwan   \n",
       "\n",
       "   disaster_lvl  \n",
       "0             1  \n",
       "1             1  \n",
       "2             2  \n",
       "3             2  \n",
       "4             2  "
      ]
     },
     "execution_count": 50,
     "metadata": {},
     "output_type": "execute_result"
    }
   ],
   "source": [
    "test_df['hashtags'] = [re.findall(r\"#(\\w+)\", text) for text in test_df.text] #Extracting hashtags\n",
    "test_df['hashtags'] = [\",\".join(text) for text in test_df.hashtags] #cleanup\n",
    "test_df['reference'] = [get_tags(word) for word in test_df.text] #Extracting key words\n",
    "test_df['text_re'] = [re.sub(r'\\bhttp[s]?://[a-zA-Z]*[0-9]*.*\\b\\s','',text) for text in test_df.text] #removing any hyperlinks if any\n",
    "test_df['disaster_lvl'] = [1 if len(text)==1 else 2 if len(text)==2 else 3 for text in test_df.reference] #custom priority scale\n",
    "test_df['reference'] = [\",\".join(text) for text in test_df.reference] #cleanup\n",
    "test_df.head()"
   ]
  },
  {
   "cell_type": "markdown",
   "metadata": {},
   "source": [
    "### Setting up Inputs(X)"
   ]
  },
  {
   "cell_type": "code",
   "execution_count": 51,
   "metadata": {},
   "outputs": [],
   "source": [
    "x = test_df.text_re #setting up inputs(X) for bernoulli_nb Model\n",
    "x_transformed = vectorizer.transform(x) #Vectorizing Validation Data"
   ]
  },
  {
   "cell_type": "markdown",
   "metadata": {},
   "source": [
    "### Predicting on Validation Data"
   ]
  },
  {
   "cell_type": "code",
   "execution_count": 52,
   "metadata": {},
   "outputs": [],
   "source": [
    "#Predicting with Trained bernoulli_nb Model on Validation Data\n",
    "y_predict = bernoulli_nb.predict(x_transformed.toarray())"
   ]
  },
  {
   "cell_type": "code",
   "execution_count": null,
   "metadata": {},
   "outputs": [],
   "source": []
  },
  {
   "cell_type": "code",
   "execution_count": 53,
   "metadata": {},
   "outputs": [
    {
     "data": {
      "text/html": [
       "<div>\n",
       "<style scoped>\n",
       "    .dataframe tbody tr th:only-of-type {\n",
       "        vertical-align: middle;\n",
       "    }\n",
       "\n",
       "    .dataframe tbody tr th {\n",
       "        vertical-align: top;\n",
       "    }\n",
       "\n",
       "    .dataframe thead th {\n",
       "        text-align: right;\n",
       "    }\n",
       "</style>\n",
       "<table border=\"1\" class=\"dataframe\">\n",
       "  <thead>\n",
       "    <tr style=\"text-align: right;\">\n",
       "      <th></th>\n",
       "      <th>id</th>\n",
       "      <th>keyword</th>\n",
       "      <th>location</th>\n",
       "      <th>text</th>\n",
       "      <th>hashtags</th>\n",
       "      <th>reference</th>\n",
       "      <th>text_re</th>\n",
       "      <th>disaster_lvl</th>\n",
       "      <th>model_output</th>\n",
       "    </tr>\n",
       "  </thead>\n",
       "  <tbody>\n",
       "    <tr>\n",
       "      <th>0</th>\n",
       "      <td>0</td>\n",
       "      <td>NaN</td>\n",
       "      <td>NaN</td>\n",
       "      <td>Just happened a terrible car crash</td>\n",
       "      <td></td>\n",
       "      <td>crash</td>\n",
       "      <td>Just happened a terrible car crash</td>\n",
       "      <td>1</td>\n",
       "      <td>0</td>\n",
       "    </tr>\n",
       "    <tr>\n",
       "      <th>1</th>\n",
       "      <td>2</td>\n",
       "      <td>NaN</td>\n",
       "      <td>NaN</td>\n",
       "      <td>Heard about #earthquake is different cities, stay safe everyone.</td>\n",
       "      <td>earthquake</td>\n",
       "      <td>earthquake</td>\n",
       "      <td>Heard about #earthquake is different cities, stay safe everyone.</td>\n",
       "      <td>1</td>\n",
       "      <td>0</td>\n",
       "    </tr>\n",
       "    <tr>\n",
       "      <th>2</th>\n",
       "      <td>3</td>\n",
       "      <td>NaN</td>\n",
       "      <td>NaN</td>\n",
       "      <td>there is a forest fire at spot pond, geese are fleeing across the street, I cannot save them all</td>\n",
       "      <td></td>\n",
       "      <td>forest fire,fire</td>\n",
       "      <td>there is a forest fire at spot pond, geese are fleeing across the street, I cannot save them all</td>\n",
       "      <td>2</td>\n",
       "      <td>1</td>\n",
       "    </tr>\n",
       "    <tr>\n",
       "      <th>3</th>\n",
       "      <td>9</td>\n",
       "      <td>NaN</td>\n",
       "      <td>NaN</td>\n",
       "      <td>Apocalypse lighting. #Spokane #wildfires</td>\n",
       "      <td>Spokane,wildfires</td>\n",
       "      <td>wildfire,fire</td>\n",
       "      <td>Apocalypse lighting. #Spokane #wildfires</td>\n",
       "      <td>2</td>\n",
       "      <td>1</td>\n",
       "    </tr>\n",
       "    <tr>\n",
       "      <th>4</th>\n",
       "      <td>11</td>\n",
       "      <td>NaN</td>\n",
       "      <td>NaN</td>\n",
       "      <td>Typhoon Soudelor kills 28 in China and Taiwan</td>\n",
       "      <td></td>\n",
       "      <td>kill,typhoon</td>\n",
       "      <td>Typhoon Soudelor kills 28 in China and Taiwan</td>\n",
       "      <td>2</td>\n",
       "      <td>1</td>\n",
       "    </tr>\n",
       "  </tbody>\n",
       "</table>\n",
       "</div>"
      ],
      "text/plain": [
       "   id keyword location  \\\n",
       "0   0     NaN      NaN   \n",
       "1   2     NaN      NaN   \n",
       "2   3     NaN      NaN   \n",
       "3   9     NaN      NaN   \n",
       "4  11     NaN      NaN   \n",
       "\n",
       "                                                                                               text  \\\n",
       "0                                                                Just happened a terrible car crash   \n",
       "1                                  Heard about #earthquake is different cities, stay safe everyone.   \n",
       "2  there is a forest fire at spot pond, geese are fleeing across the street, I cannot save them all   \n",
       "3                                                          Apocalypse lighting. #Spokane #wildfires   \n",
       "4                                                     Typhoon Soudelor kills 28 in China and Taiwan   \n",
       "\n",
       "            hashtags         reference  \\\n",
       "0                                crash   \n",
       "1         earthquake        earthquake   \n",
       "2                     forest fire,fire   \n",
       "3  Spokane,wildfires     wildfire,fire   \n",
       "4                         kill,typhoon   \n",
       "\n",
       "                                                                                            text_re  \\\n",
       "0                                                                Just happened a terrible car crash   \n",
       "1                                  Heard about #earthquake is different cities, stay safe everyone.   \n",
       "2  there is a forest fire at spot pond, geese are fleeing across the street, I cannot save them all   \n",
       "3                                                          Apocalypse lighting. #Spokane #wildfires   \n",
       "4                                                     Typhoon Soudelor kills 28 in China and Taiwan   \n",
       "\n",
       "   disaster_lvl  model_output  \n",
       "0             1             0  \n",
       "1             1             0  \n",
       "2             2             1  \n",
       "3             2             1  \n",
       "4             2             1  "
      ]
     },
     "execution_count": 53,
     "metadata": {},
     "output_type": "execute_result"
    }
   ],
   "source": [
    "#Assigning new column for model output\n",
    "test_df['model_output'] = y_predict\n",
    "test_df.head()"
   ]
  },
  {
   "cell_type": "code",
   "execution_count": null,
   "metadata": {},
   "outputs": [],
   "source": []
  },
  {
   "cell_type": "code",
   "execution_count": 54,
   "metadata": {},
   "outputs": [],
   "source": [
    "df = test_df.copy() #creating new DataFrame\n",
    "df.fillna('NONE',inplace=True) #Filling NaN's in Data with NONE"
   ]
  },
  {
   "cell_type": "code",
   "execution_count": 55,
   "metadata": {},
   "outputs": [],
   "source": [
    "del test_df #deleting unused DataFrame to freeup memory"
   ]
  },
  {
   "cell_type": "code",
   "execution_count": null,
   "metadata": {},
   "outputs": [],
   "source": []
  },
  {
   "cell_type": "code",
   "execution_count": 56,
   "metadata": {},
   "outputs": [
    {
     "data": {
      "text/html": [
       "<div>\n",
       "<style scoped>\n",
       "    .dataframe tbody tr th:only-of-type {\n",
       "        vertical-align: middle;\n",
       "    }\n",
       "\n",
       "    .dataframe tbody tr th {\n",
       "        vertical-align: top;\n",
       "    }\n",
       "\n",
       "    .dataframe thead th {\n",
       "        text-align: right;\n",
       "    }\n",
       "</style>\n",
       "<table border=\"1\" class=\"dataframe\">\n",
       "  <thead>\n",
       "    <tr style=\"text-align: right;\">\n",
       "      <th></th>\n",
       "      <th>id</th>\n",
       "      <th>keyword</th>\n",
       "      <th>location</th>\n",
       "      <th>text</th>\n",
       "      <th>hashtags</th>\n",
       "      <th>reference</th>\n",
       "      <th>text_re</th>\n",
       "      <th>disaster_lvl</th>\n",
       "      <th>model_output</th>\n",
       "    </tr>\n",
       "  </thead>\n",
       "  <tbody>\n",
       "    <tr>\n",
       "      <th>0</th>\n",
       "      <td>0</td>\n",
       "      <td>0</td>\n",
       "      <td>829</td>\n",
       "      <td>Just happened a terrible car crash</td>\n",
       "      <td>0</td>\n",
       "      <td>5</td>\n",
       "      <td>Just happened a terrible car crash</td>\n",
       "      <td>1</td>\n",
       "      <td>0</td>\n",
       "    </tr>\n",
       "    <tr>\n",
       "      <th>1</th>\n",
       "      <td>2</td>\n",
       "      <td>0</td>\n",
       "      <td>829</td>\n",
       "      <td>Heard about #earthquake is different cities, stay safe everyone.</td>\n",
       "      <td>515</td>\n",
       "      <td>20</td>\n",
       "      <td>Heard about #earthquake is different cities, stay safe everyone.</td>\n",
       "      <td>1</td>\n",
       "      <td>0</td>\n",
       "    </tr>\n",
       "    <tr>\n",
       "      <th>2</th>\n",
       "      <td>3</td>\n",
       "      <td>0</td>\n",
       "      <td>829</td>\n",
       "      <td>there is a forest fire at spot pond, geese are fleeing across the street, I cannot save them all</td>\n",
       "      <td>0</td>\n",
       "      <td>39</td>\n",
       "      <td>there is a forest fire at spot pond, geese are fleeing across the street, I cannot save them all</td>\n",
       "      <td>2</td>\n",
       "      <td>1</td>\n",
       "    </tr>\n",
       "    <tr>\n",
       "      <th>3</th>\n",
       "      <td>9</td>\n",
       "      <td>0</td>\n",
       "      <td>829</td>\n",
       "      <td>Apocalypse lighting. #Spokane #wildfires</td>\n",
       "      <td>380</td>\n",
       "      <td>55</td>\n",
       "      <td>Apocalypse lighting. #Spokane #wildfires</td>\n",
       "      <td>2</td>\n",
       "      <td>1</td>\n",
       "    </tr>\n",
       "    <tr>\n",
       "      <th>4</th>\n",
       "      <td>11</td>\n",
       "      <td>0</td>\n",
       "      <td>829</td>\n",
       "      <td>Typhoon Soudelor kills 28 in China and Taiwan</td>\n",
       "      <td>0</td>\n",
       "      <td>48</td>\n",
       "      <td>Typhoon Soudelor kills 28 in China and Taiwan</td>\n",
       "      <td>2</td>\n",
       "      <td>1</td>\n",
       "    </tr>\n",
       "  </tbody>\n",
       "</table>\n",
       "</div>"
      ],
      "text/plain": [
       "   id  keyword  location  \\\n",
       "0   0        0       829   \n",
       "1   2        0       829   \n",
       "2   3        0       829   \n",
       "3   9        0       829   \n",
       "4  11        0       829   \n",
       "\n",
       "                                                                                               text  \\\n",
       "0                                                                Just happened a terrible car crash   \n",
       "1                                  Heard about #earthquake is different cities, stay safe everyone.   \n",
       "2  there is a forest fire at spot pond, geese are fleeing across the street, I cannot save them all   \n",
       "3                                                          Apocalypse lighting. #Spokane #wildfires   \n",
       "4                                                     Typhoon Soudelor kills 28 in China and Taiwan   \n",
       "\n",
       "   hashtags  reference  \\\n",
       "0         0          5   \n",
       "1       515         20   \n",
       "2         0         39   \n",
       "3       380         55   \n",
       "4         0         48   \n",
       "\n",
       "                                                                                            text_re  \\\n",
       "0                                                                Just happened a terrible car crash   \n",
       "1                                  Heard about #earthquake is different cities, stay safe everyone.   \n",
       "2  there is a forest fire at spot pond, geese are fleeing across the street, I cannot save them all   \n",
       "3                                                          Apocalypse lighting. #Spokane #wildfires   \n",
       "4                                                     Typhoon Soudelor kills 28 in China and Taiwan   \n",
       "\n",
       "   disaster_lvl  model_output  \n",
       "0             1             0  \n",
       "1             1             0  \n",
       "2             2             1  \n",
       "3             2             1  \n",
       "4             2             1  "
      ]
     },
     "execution_count": 56,
     "metadata": {},
     "output_type": "execute_result"
    }
   ],
   "source": [
    "#LabelEncoding required non-numeric columns\n",
    "df.keyword = enc.fit_transform(df.keyword)\n",
    "df.location = enc.fit_transform(df.location)\n",
    "df.reference = enc.fit_transform(df.reference)\n",
    "df.hashtags = enc.fit_transform(df.hashtags)\n",
    "df.head()"
   ]
  },
  {
   "cell_type": "code",
   "execution_count": null,
   "metadata": {},
   "outputs": [],
   "source": []
  },
  {
   "cell_type": "code",
   "execution_count": 57,
   "metadata": {},
   "outputs": [],
   "source": [
    "#setting up inputs(X) for rf_clf\n",
    "X = df.loc[:,['keyword','location','model_output','reference','hashtags','disaster_lvl']] "
   ]
  },
  {
   "cell_type": "code",
   "execution_count": null,
   "metadata": {},
   "outputs": [],
   "source": []
  },
  {
   "cell_type": "code",
   "execution_count": 58,
   "metadata": {},
   "outputs": [
    {
     "name": "stderr",
     "output_type": "stream",
     "text": [
      "[Parallel(n_jobs=1)]: Using backend SequentialBackend with 1 concurrent workers.\n",
      "[Parallel(n_jobs=1)]: Done 1000 out of 1000 | elapsed:    0.9s finished\n"
     ]
    },
    {
     "data": {
      "text/html": [
       "<div>\n",
       "<style scoped>\n",
       "    .dataframe tbody tr th:only-of-type {\n",
       "        vertical-align: middle;\n",
       "    }\n",
       "\n",
       "    .dataframe tbody tr th {\n",
       "        vertical-align: top;\n",
       "    }\n",
       "\n",
       "    .dataframe thead th {\n",
       "        text-align: right;\n",
       "    }\n",
       "</style>\n",
       "<table border=\"1\" class=\"dataframe\">\n",
       "  <thead>\n",
       "    <tr style=\"text-align: right;\">\n",
       "      <th></th>\n",
       "      <th>id</th>\n",
       "      <th>keyword</th>\n",
       "      <th>location</th>\n",
       "      <th>text</th>\n",
       "      <th>hashtags</th>\n",
       "      <th>reference</th>\n",
       "      <th>text_re</th>\n",
       "      <th>disaster_lvl</th>\n",
       "      <th>model_output</th>\n",
       "      <th>rf_clf</th>\n",
       "    </tr>\n",
       "  </thead>\n",
       "  <tbody>\n",
       "    <tr>\n",
       "      <th>0</th>\n",
       "      <td>0</td>\n",
       "      <td>0</td>\n",
       "      <td>829</td>\n",
       "      <td>Just happened a terrible car crash</td>\n",
       "      <td>0</td>\n",
       "      <td>5</td>\n",
       "      <td>Just happened a terrible car crash</td>\n",
       "      <td>1</td>\n",
       "      <td>0</td>\n",
       "      <td>0</td>\n",
       "    </tr>\n",
       "    <tr>\n",
       "      <th>1</th>\n",
       "      <td>2</td>\n",
       "      <td>0</td>\n",
       "      <td>829</td>\n",
       "      <td>Heard about #earthquake is different cities, stay safe everyone.</td>\n",
       "      <td>515</td>\n",
       "      <td>20</td>\n",
       "      <td>Heard about #earthquake is different cities, stay safe everyone.</td>\n",
       "      <td>1</td>\n",
       "      <td>0</td>\n",
       "      <td>0</td>\n",
       "    </tr>\n",
       "    <tr>\n",
       "      <th>2</th>\n",
       "      <td>3</td>\n",
       "      <td>0</td>\n",
       "      <td>829</td>\n",
       "      <td>there is a forest fire at spot pond, geese are fleeing across the street, I cannot save them all</td>\n",
       "      <td>0</td>\n",
       "      <td>39</td>\n",
       "      <td>there is a forest fire at spot pond, geese are fleeing across the street, I cannot save them all</td>\n",
       "      <td>2</td>\n",
       "      <td>1</td>\n",
       "      <td>1</td>\n",
       "    </tr>\n",
       "    <tr>\n",
       "      <th>3</th>\n",
       "      <td>9</td>\n",
       "      <td>0</td>\n",
       "      <td>829</td>\n",
       "      <td>Apocalypse lighting. #Spokane #wildfires</td>\n",
       "      <td>380</td>\n",
       "      <td>55</td>\n",
       "      <td>Apocalypse lighting. #Spokane #wildfires</td>\n",
       "      <td>2</td>\n",
       "      <td>1</td>\n",
       "      <td>1</td>\n",
       "    </tr>\n",
       "    <tr>\n",
       "      <th>4</th>\n",
       "      <td>11</td>\n",
       "      <td>0</td>\n",
       "      <td>829</td>\n",
       "      <td>Typhoon Soudelor kills 28 in China and Taiwan</td>\n",
       "      <td>0</td>\n",
       "      <td>48</td>\n",
       "      <td>Typhoon Soudelor kills 28 in China and Taiwan</td>\n",
       "      <td>2</td>\n",
       "      <td>1</td>\n",
       "      <td>1</td>\n",
       "    </tr>\n",
       "  </tbody>\n",
       "</table>\n",
       "</div>"
      ],
      "text/plain": [
       "   id  keyword  location  \\\n",
       "0   0        0       829   \n",
       "1   2        0       829   \n",
       "2   3        0       829   \n",
       "3   9        0       829   \n",
       "4  11        0       829   \n",
       "\n",
       "                                                                                               text  \\\n",
       "0                                                                Just happened a terrible car crash   \n",
       "1                                  Heard about #earthquake is different cities, stay safe everyone.   \n",
       "2  there is a forest fire at spot pond, geese are fleeing across the street, I cannot save them all   \n",
       "3                                                          Apocalypse lighting. #Spokane #wildfires   \n",
       "4                                                     Typhoon Soudelor kills 28 in China and Taiwan   \n",
       "\n",
       "   hashtags  reference  \\\n",
       "0         0          5   \n",
       "1       515         20   \n",
       "2         0         39   \n",
       "3       380         55   \n",
       "4         0         48   \n",
       "\n",
       "                                                                                            text_re  \\\n",
       "0                                                                Just happened a terrible car crash   \n",
       "1                                  Heard about #earthquake is different cities, stay safe everyone.   \n",
       "2  there is a forest fire at spot pond, geese are fleeing across the street, I cannot save them all   \n",
       "3                                                          Apocalypse lighting. #Spokane #wildfires   \n",
       "4                                                     Typhoon Soudelor kills 28 in China and Taiwan   \n",
       "\n",
       "   disaster_lvl  model_output  rf_clf  \n",
       "0             1             0       0  \n",
       "1             1             0       0  \n",
       "2             2             1       1  \n",
       "3             2             1       1  \n",
       "4             2             1       1  "
      ]
     },
     "execution_count": 58,
     "metadata": {},
     "output_type": "execute_result"
    }
   ],
   "source": [
    "#Predicting with Trained rf_clf Model on Validation Data\n",
    "df['rf_clf'] = rf_clf.predict(X)\n",
    "df.head()"
   ]
  },
  {
   "cell_type": "code",
   "execution_count": null,
   "metadata": {},
   "outputs": [],
   "source": []
  },
  {
   "cell_type": "markdown",
   "metadata": {},
   "source": [
    "### Outputting Results"
   ]
  },
  {
   "cell_type": "code",
   "execution_count": 59,
   "metadata": {},
   "outputs": [
    {
     "data": {
      "text/html": [
       "<div>\n",
       "<style scoped>\n",
       "    .dataframe tbody tr th:only-of-type {\n",
       "        vertical-align: middle;\n",
       "    }\n",
       "\n",
       "    .dataframe tbody tr th {\n",
       "        vertical-align: top;\n",
       "    }\n",
       "\n",
       "    .dataframe thead th {\n",
       "        text-align: right;\n",
       "    }\n",
       "</style>\n",
       "<table border=\"1\" class=\"dataframe\">\n",
       "  <thead>\n",
       "    <tr style=\"text-align: right;\">\n",
       "      <th></th>\n",
       "      <th>id</th>\n",
       "      <th>target</th>\n",
       "    </tr>\n",
       "  </thead>\n",
       "  <tbody>\n",
       "    <tr>\n",
       "      <th>0</th>\n",
       "      <td>0</td>\n",
       "      <td>0</td>\n",
       "    </tr>\n",
       "    <tr>\n",
       "      <th>1</th>\n",
       "      <td>2</td>\n",
       "      <td>0</td>\n",
       "    </tr>\n",
       "    <tr>\n",
       "      <th>2</th>\n",
       "      <td>3</td>\n",
       "      <td>1</td>\n",
       "    </tr>\n",
       "    <tr>\n",
       "      <th>3</th>\n",
       "      <td>9</td>\n",
       "      <td>1</td>\n",
       "    </tr>\n",
       "    <tr>\n",
       "      <th>4</th>\n",
       "      <td>11</td>\n",
       "      <td>1</td>\n",
       "    </tr>\n",
       "  </tbody>\n",
       "</table>\n",
       "</div>"
      ],
      "text/plain": [
       "   id  target\n",
       "0   0       0\n",
       "1   2       0\n",
       "2   3       1\n",
       "3   9       1\n",
       "4  11       1"
      ]
     },
     "execution_count": 59,
     "metadata": {},
     "output_type": "execute_result"
    }
   ],
   "source": [
    "#Creating new DataFrame for exporting output\n",
    "output = pd.DataFrame(columns=['id','target'])\n",
    "output.id = df.id #id Column\n",
    "output.target = df.rf_clf #target column\n",
    "output.head() #viewing output DataFrame"
   ]
  },
  {
   "cell_type": "code",
   "execution_count": 60,
   "metadata": {},
   "outputs": [],
   "source": [
    "#Writing output into csv file\n",
    "output.to_csv(r'C:\\Users\\Tejas\\Downloads\\Real_or_Not_NLP\\nlp-getting-started\\Real_or_Not_NLP_v1_output.csv',index=False) "
   ]
  },
  {
   "cell_type": "code",
   "execution_count": null,
   "metadata": {},
   "outputs": [],
   "source": []
  },
  {
   "cell_type": "code",
   "execution_count": null,
   "metadata": {},
   "outputs": [],
   "source": []
  },
  {
   "cell_type": "code",
   "execution_count": null,
   "metadata": {},
   "outputs": [],
   "source": []
  },
  {
   "cell_type": "code",
   "execution_count": null,
   "metadata": {},
   "outputs": [],
   "source": []
  },
  {
   "cell_type": "code",
   "execution_count": null,
   "metadata": {},
   "outputs": [],
   "source": []
  }
 ],
 "metadata": {
  "kernelspec": {
   "display_name": "Python 3",
   "language": "python",
   "name": "python3"
  },
  "language_info": {
   "codemirror_mode": {
    "name": "ipython",
    "version": 3
   },
   "file_extension": ".py",
   "mimetype": "text/x-python",
   "name": "python",
   "nbconvert_exporter": "python",
   "pygments_lexer": "ipython3",
   "version": "3.7.3"
  }
 },
 "nbformat": 4,
 "nbformat_minor": 2
}
